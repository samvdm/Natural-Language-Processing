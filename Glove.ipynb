{
 "cells": [
  {
   "cell_type": "code",
   "execution_count": 73,
   "metadata": {},
   "outputs": [
    {
     "name": "stderr",
     "output_type": "stream",
     "text": [
      "Using TensorFlow backend.\n"
     ]
    }
   ],
   "source": [
    "import pandas as pd\n",
    "import numpy as np\n",
    "from keras.preprocessing.text import Tokenizer\n",
    "from keras.preprocessing.sequence import pad_sequences\n",
    "from keras.utils.np_utils import to_categorical\n",
    "from sklearn.model_selection import train_test_split\n",
    "from keras.models import Sequential\n",
    "from keras.layers import LSTM, Dense, Embedding, GRU, Dropout\n",
    "from keras.initializers import Constant\n",
    "import os\n",
    "import sys"
   ]
  },
  {
   "cell_type": "code",
   "execution_count": 74,
   "metadata": {},
   "outputs": [],
   "source": [
    "#read data\n",
    "train = pd.read_csv(\"train.csv\", index_col = 'id')\n",
    "test = pd.read_csv(\"test.csv\")"
   ]
  },
  {
   "cell_type": "code",
   "execution_count": 75,
   "metadata": {},
   "outputs": [],
   "source": [
    "#drop columns not needed\n",
    "train = train.drop(['keyword','location'], axis = 1)\n",
    "X_test = test.drop(['keyword','location'], axis = 1)"
   ]
  },
  {
   "cell_type": "code",
   "execution_count": 76,
   "metadata": {},
   "outputs": [],
   "source": [
    "# create feature and target\n",
    "X_train = train['text'].values\n",
    "y_train= train['target'].values\n",
    "X_test = X_test['text'].values\n",
    "#X_train, X_test, y_train, y_test = train_test_split(X, y, test_size = 0.1, random_state = 21, stratify = y)"
   ]
  },
  {
   "cell_type": "code",
   "execution_count": 10,
   "metadata": {},
   "outputs": [],
   "source": [
    "tokenizer = Tokenizer()\n",
    "tokenizer.fit_on_texts(X_train)"
   ]
  },
  {
   "cell_type": "code",
   "execution_count": 11,
   "metadata": {},
   "outputs": [],
   "source": [
    "X_train = tokenizer.texts_to_sequences(X_train)\n",
    "X_test = tokenizer.texts_to_sequences(X_test)"
   ]
  },
  {
   "cell_type": "code",
   "execution_count": 13,
   "metadata": {},
   "outputs": [],
   "source": [
    "#maximum length of a tweet\n",
    "sentence_len = 280"
   ]
  },
  {
   "cell_type": "code",
   "execution_count": 14,
   "metadata": {},
   "outputs": [],
   "source": [
    "X_train = pad_sequences(X_train, maxlen = sentence_len)\n",
    "X_test = pad_sequences(X_test, maxlen = sentence_len)"
   ]
  },
  {
   "cell_type": "code",
   "execution_count": 27,
   "metadata": {},
   "outputs": [
    {
     "name": "stdout",
     "output_type": "stream",
     "text": [
      "Found 1917494 word vectors.\n"
     ]
    }
   ],
   "source": [
    "#get glove embeddings\n",
    "embeddings_index = {}\n",
    "f = open('glove.42B.300d.txt','r',  encoding = 'utf-8')\n",
    "for line in f:\n",
    "    values = line.split()\n",
    "    word = values[0]\n",
    "    coefs = np.asarray(values[1:], dtype='float32')\n",
    "    embeddings_index[word] = coefs\n",
    "f.close()\n",
    "\n",
    "print('Found %s word vectors.' % len(embeddings_index))"
   ]
  },
  {
   "cell_type": "code",
   "execution_count": 28,
   "metadata": {},
   "outputs": [
    {
     "name": "stdout",
     "output_type": "stream",
     "text": [
      "Found 21038 unique tokens.\n"
     ]
    }
   ],
   "source": [
    "word_index = tokenizer.word_index\n",
    "print('Found %s unique tokens.' % len(word_index))"
   ]
  },
  {
   "cell_type": "code",
   "execution_count": 29,
   "metadata": {},
   "outputs": [],
   "source": [
    "EMBEDDING_DIM = 300"
   ]
  },
  {
   "cell_type": "code",
   "execution_count": 30,
   "metadata": {},
   "outputs": [],
   "source": [
    "embedding_matrix = np.zeros((len(word_index) + 1, EMBEDDING_DIM))\n",
    "for word, i in word_index.items():\n",
    "    embedding_vector = embeddings_index.get(word)\n",
    "    if embedding_vector is not None:\n",
    "        # words not found in embedding index will be all-zeros.\n",
    "        embedding_matrix[i] = embedding_vector"
   ]
  },
  {
   "cell_type": "code",
   "execution_count": 72,
   "metadata": {},
   "outputs": [
    {
     "name": "stdout",
     "output_type": "stream",
     "text": [
      "_________________________________________________________________\n",
      "Layer (type)                 Output Shape              Param #   \n",
      "=================================================================\n",
      "embedding_5 (Embedding)      (None, 50, 300)           6311700   \n",
      "_________________________________________________________________\n",
      "gru_2 (GRU)                  (None, 128)               164736    \n",
      "_________________________________________________________________\n",
      "dense_7 (Dense)              (None, 1)                 129       \n",
      "=================================================================\n",
      "Total params: 6,476,565\n",
      "Trainable params: 164,865\n",
      "Non-trainable params: 6,311,700\n",
      "_________________________________________________________________\n"
     ]
    }
   ],
   "source": [
    "# Create a model with embeddings\n",
    "model = Sequential(name=\"emb_model\")\n",
    "model.add(Embedding(len(word_index) + 1,\n",
    "                            EMBEDDING_DIM,\n",
    "                            weights=[embedding_matrix],\n",
    "                            input_length=sentence_len,\n",
    "                            trainable=False))\n",
    "model.add(GRU(128))\n",
    "model.add(Dense(1))\n",
    "model.compile(loss='binary_crossentropy', optimizer='adam', metrics=['accuracy'])\n",
    "\n",
    "# Print the summaries of the model with embeddings\n",
    "model.summary()"
   ]
  },
  {
   "cell_type": "code",
   "execution_count": 73,
   "metadata": {},
   "outputs": [
    {
     "name": "stdout",
     "output_type": "stream",
     "text": [
      "Train on 6851 samples, validate on 762 samples\n",
      "Epoch 1/10\n",
      "6851/6851 [==============================] - 40s 6ms/step - loss: 2.3992 - acc: 0.4869 - val_loss: 2.1825 - val_acc: 0.5367\n",
      "Epoch 2/10\n",
      "6851/6851 [==============================] - 29s 4ms/step - loss: 1.2744 - acc: 0.6050 - val_loss: 0.9481 - val_acc: 0.6365\n",
      "Epoch 3/10\n",
      "6851/6851 [==============================] - 29s 4ms/step - loss: 1.0732 - acc: 0.6595 - val_loss: 0.9567 - val_acc: 0.7218\n",
      "Epoch 4/10\n",
      "6851/6851 [==============================] - 29s 4ms/step - loss: 0.9349 - acc: 0.7107 - val_loss: 1.4570 - val_acc: 0.5761\n",
      "Epoch 5/10\n",
      "6851/6851 [==============================] - 30s 4ms/step - loss: 0.9062 - acc: 0.6981 - val_loss: 0.9338 - val_acc: 0.7165\n",
      "Epoch 6/10\n",
      "6851/6851 [==============================] - 30s 4ms/step - loss: 1.0524 - acc: 0.6920 - val_loss: 1.1275 - val_acc: 0.6942\n",
      "Epoch 7/10\n",
      "6851/6851 [==============================] - 33s 5ms/step - loss: 0.7150 - acc: 0.7587 - val_loss: 0.9263 - val_acc: 0.7402\n",
      "Epoch 8/10\n",
      "6851/6851 [==============================] - 33s 5ms/step - loss: 0.6484 - acc: 0.7783 - val_loss: 0.7873 - val_acc: 0.7231\n",
      "Epoch 9/10\n",
      "6851/6851 [==============================] - 35s 5ms/step - loss: 2.1503 - acc: 0.6278 - val_loss: 2.5785 - val_acc: 0.5906\n",
      "Epoch 10/10\n",
      "6851/6851 [==============================] - 34s 5ms/step - loss: 0.7083 - acc: 0.7574 - val_loss: 1.4453 - val_acc: 0.6693\n"
     ]
    },
    {
     "data": {
      "text/plain": [
       "<keras.callbacks.History at 0x1ade0258308>"
      ]
     },
     "execution_count": 73,
     "metadata": {},
     "output_type": "execute_result"
    }
   ],
   "source": [
    "# Train the model, iterating on the data in batches of 32 samples\n",
    "model.fit(X_train,  y_train, epochs=10, batch_size=32, validation_data=(X_test, y_test))"
   ]
  },
  {
   "cell_type": "code",
   "execution_count": 74,
   "metadata": {},
   "outputs": [
    {
     "name": "stdout",
     "output_type": "stream",
     "text": [
      "Loss: 1.445254040515329\n",
      "Accuracy: 0.6692913390520051\n"
     ]
    }
   ],
   "source": [
    "#print(\"Loss: {0}\\nAccuracy: {1}\".format(*model.evaluate(X_test, y_test, verbose=0)))"
   ]
  },
  {
   "cell_type": "code",
   "execution_count": 75,
   "metadata": {},
   "outputs": [],
   "source": [
    " pred_probabilities = model.predict(X_test)"
   ]
  },
  {
   "cell_type": "code",
   "execution_count": 76,
   "metadata": {},
   "outputs": [],
   "source": [
    "y_pred = np.matrix( pred_probabilities)\n",
    "y_pred[y_pred > 0.5] = 1\n",
    "y_pred[y_pred <= 0.5] = 0"
   ]
  },
  {
   "cell_type": "code",
   "execution_count": null,
   "metadata": {},
   "outputs": [],
   "source": [
    "#save predictions\n",
    "pred = pd.DataFrame(y_pred)\n",
    "ids = pd.DataFrame(test[['id']])\n",
    "df = pd.concat([ids, pred], axis = 1)\n",
    "df.set_index('id', inplace=True)"
   ]
  },
  {
   "cell_type": "code",
   "execution_count": null,
   "metadata": {},
   "outputs": [],
   "source": [
    "df.to_csv(\"submission_two.csv\")"
   ]
  },
  {
   "cell_type": "code",
   "execution_count": null,
   "metadata": {},
   "outputs": [],
   "source": [
    "#submit\n",
    "#kaggle competitions submit -c nlp-getting-started -f submission_two.csv -m \"2ndsubmission\""
   ]
  }
 ],
 "metadata": {
  "kernelspec": {
   "display_name": "Python 3",
   "language": "python",
   "name": "python3"
  },
  "language_info": {
   "codemirror_mode": {
    "name": "ipython",
    "version": 3
   },
   "file_extension": ".py",
   "mimetype": "text/x-python",
   "name": "python",
   "nbconvert_exporter": "python",
   "pygments_lexer": "ipython3",
   "version": "3.7.4"
  }
 },
 "nbformat": 4,
 "nbformat_minor": 4
}
