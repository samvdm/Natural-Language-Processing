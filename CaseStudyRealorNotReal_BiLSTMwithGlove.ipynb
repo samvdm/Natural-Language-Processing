{
  "nbformat": 4,
  "nbformat_minor": 0,
  "metadata": {
    "colab": {
      "name": "CaseStudyRealorNotReal_BiLSTMwithGlove.ipynb",
      "provenance": [],
      "collapsed_sections": [],
      "toc_visible": true
    },
    "kernelspec": {
      "name": "python3",
      "display_name": "Python 3"
    }
  },
  "cells": [
    {
      "cell_type": "markdown",
      "metadata": {
        "id": "avJSHhHXyriy",
        "colab_type": "text"
      },
      "source": [
        "# Getting Started Keras RNNs\n",
        "\n",
        "Text data is everywhere and there is plenty of it Therefore it is of no surprise that the analysis of text data has gained popularity in Machine learning. A few applications of machine learning on text data include:\n",
        "\n",
        "1. Machine translation\n",
        "2. Sentiment classification\n",
        "3. Multi-class classification \n",
        "4. Text generations (e.g question and answer systems)\n",
        "5. Entity extraction\n",
        "\n",
        "Recurrent neural networks (RNNs) have been the popular algorithm to solve these problems.\n",
        "\n",
        "In this tutorial, we therefore demonstrate how to use an RNN to classify text data. \n"
      ]
    },
    {
      "cell_type": "markdown",
      "metadata": {
        "id": "RWFsVPCvE8St",
        "colab_type": "text"
      },
      "source": [
        "## The data set\n",
        "\n",
        "The data set that we will be looking at is the real or not real twitter data downloaded from [kaggle.](https://www.kaggle.com/c/nlp-getting-started)\n",
        "\n",
        "This is a binary classification task and we use glove emmeddings"
      ]
    },
    {
      "cell_type": "code",
      "metadata": {
        "id": "ByIlz6o5E7kG",
        "colab_type": "code",
        "colab": {}
      },
      "source": [
        "#import all dependencies\n",
        "import numpy as np\n",
        "import math\n",
        "import re\n",
        "import pandas as pd\n",
        "from bs4 import BeautifulSoup\n",
        "import random\n",
        "from google.colab import drive"
      ],
      "execution_count": 0,
      "outputs": []
    },
    {
      "cell_type": "code",
      "metadata": {
        "id": "yIL4WlzRkx0A",
        "colab_type": "code",
        "colab": {}
      },
      "source": [
        "from keras.preprocessing.text import Tokenizer\n",
        "from keras.preprocessing.sequence import pad_sequences\n",
        "from keras.utils.np_utils import to_categorical\n",
        "from sklearn.model_selection import train_test_split\n",
        "from keras.models import Sequential\n",
        "from keras.layers import Dense, Embedding, Dropout, Input\n",
        "from keras.layers import Bidirectional, GlobalMaxPool1D, LSTM, GRU, SimpleRNN\n",
        "from keras.initializers import Constant\n",
        "from keras.models import Model\n",
        "import matplotlib.pyplot as plt\n",
        "import os\n",
        "import sys"
      ],
      "execution_count": 0,
      "outputs": []
    },
    {
      "cell_type": "code",
      "metadata": {
        "id": "GPRmSQtSi8Yu",
        "colab_type": "code",
        "outputId": "df17f38a-2d8b-420f-8d06-45b7d6384043",
        "colab": {
          "base_uri": "https://localhost:8080/",
          "height": 120
        }
      },
      "source": [
        "drive.mount(\"/content/drive\")"
      ],
      "execution_count": 3,
      "outputs": [
        {
          "output_type": "stream",
          "text": [
            "Go to this URL in a browser: https://accounts.google.com/o/oauth2/auth?client_id=947318989803-6bn6qk8qdgf4n4g3pfee6491hc0brc4i.apps.googleusercontent.com&redirect_uri=urn%3aietf%3awg%3aoauth%3a2.0%3aoob&response_type=code&scope=email%20https%3a%2f%2fwww.googleapis.com%2fauth%2fdocs.test%20https%3a%2f%2fwww.googleapis.com%2fauth%2fdrive%20https%3a%2f%2fwww.googleapis.com%2fauth%2fdrive.photos.readonly%20https%3a%2f%2fwww.googleapis.com%2fauth%2fpeopleapi.readonly\n",
            "\n",
            "Enter your authorization code:\n",
            "··········\n",
            "Mounted at /content/drive\n"
          ],
          "name": "stdout"
        }
      ]
    },
    {
      "cell_type": "code",
      "metadata": {
        "id": "mMd-H5ZijDwl",
        "colab_type": "code",
        "colab": {}
      },
      "source": [
        "train = pd.read_csv(\"/content/drive/My Drive/twitterfakenews/train.csv\", engine=\"python\", encoding = \"latin1\", index_col = 'id')\n",
        "test = pd.read_csv(\"/content/drive/My Drive/twitterfakenews/test.csv\", engine=\"python\", encoding = \"latin1\")"
      ],
      "execution_count": 0,
      "outputs": []
    },
    {
      "cell_type": "markdown",
      "metadata": {
        "id": "68tBfwAeCXZn",
        "colab_type": "text"
      },
      "source": [
        "## High level EDA"
      ]
    },
    {
      "cell_type": "code",
      "metadata": {
        "id": "QVAUksMhE_06",
        "colab_type": "code",
        "outputId": "c10d2b9d-7b9a-41cd-fcbe-09e67202aab6",
        "colab": {
          "base_uri": "https://localhost:8080/",
          "height": 226
        }
      },
      "source": [
        "train.head()"
      ],
      "execution_count": 51,
      "outputs": [
        {
          "output_type": "execute_result",
          "data": {
            "text/html": [
              "<div>\n",
              "<style scoped>\n",
              "    .dataframe tbody tr th:only-of-type {\n",
              "        vertical-align: middle;\n",
              "    }\n",
              "\n",
              "    .dataframe tbody tr th {\n",
              "        vertical-align: top;\n",
              "    }\n",
              "\n",
              "    .dataframe thead th {\n",
              "        text-align: right;\n",
              "    }\n",
              "</style>\n",
              "<table border=\"1\" class=\"dataframe\">\n",
              "  <thead>\n",
              "    <tr style=\"text-align: right;\">\n",
              "      <th></th>\n",
              "      <th>keyword</th>\n",
              "      <th>location</th>\n",
              "      <th>text</th>\n",
              "      <th>target</th>\n",
              "    </tr>\n",
              "    <tr>\n",
              "      <th>id</th>\n",
              "      <th></th>\n",
              "      <th></th>\n",
              "      <th></th>\n",
              "      <th></th>\n",
              "    </tr>\n",
              "  </thead>\n",
              "  <tbody>\n",
              "    <tr>\n",
              "      <th>1</th>\n",
              "      <td>NaN</td>\n",
              "      <td>NaN</td>\n",
              "      <td>Our Deeds are the Reason of this #earthquake M...</td>\n",
              "      <td>1</td>\n",
              "    </tr>\n",
              "    <tr>\n",
              "      <th>4</th>\n",
              "      <td>NaN</td>\n",
              "      <td>NaN</td>\n",
              "      <td>Forest fire near La Ronge Sask. Canada</td>\n",
              "      <td>1</td>\n",
              "    </tr>\n",
              "    <tr>\n",
              "      <th>5</th>\n",
              "      <td>NaN</td>\n",
              "      <td>NaN</td>\n",
              "      <td>All residents asked to 'shelter in place' are ...</td>\n",
              "      <td>1</td>\n",
              "    </tr>\n",
              "    <tr>\n",
              "      <th>6</th>\n",
              "      <td>NaN</td>\n",
              "      <td>NaN</td>\n",
              "      <td>13,000 people receive #wildfires evacuation or...</td>\n",
              "      <td>1</td>\n",
              "    </tr>\n",
              "    <tr>\n",
              "      <th>7</th>\n",
              "      <td>NaN</td>\n",
              "      <td>NaN</td>\n",
              "      <td>Just got sent this photo from Ruby #Alaska as ...</td>\n",
              "      <td>1</td>\n",
              "    </tr>\n",
              "  </tbody>\n",
              "</table>\n",
              "</div>"
            ],
            "text/plain": [
              "   keyword location                                               text  target\n",
              "id                                                                            \n",
              "1      NaN      NaN  Our Deeds are the Reason of this #earthquake M...       1\n",
              "4      NaN      NaN             Forest fire near La Ronge Sask. Canada       1\n",
              "5      NaN      NaN  All residents asked to 'shelter in place' are ...       1\n",
              "6      NaN      NaN  13,000 people receive #wildfires evacuation or...       1\n",
              "7      NaN      NaN  Just got sent this photo from Ruby #Alaska as ...       1"
            ]
          },
          "metadata": {
            "tags": []
          },
          "execution_count": 51
        }
      ]
    },
    {
      "cell_type": "code",
      "metadata": {
        "id": "0HJcJ90yBC_N",
        "colab_type": "code",
        "outputId": "9c3c4d66-1c39-4f43-e80d-0c0087af229d",
        "colab": {
          "base_uri": "https://localhost:8080/",
          "height": 100
        }
      },
      "source": [
        "train.dtypes"
      ],
      "execution_count": 52,
      "outputs": [
        {
          "output_type": "execute_result",
          "data": {
            "text/plain": [
              "keyword     object\n",
              "location    object\n",
              "text        object\n",
              "target       int64\n",
              "dtype: object"
            ]
          },
          "metadata": {
            "tags": []
          },
          "execution_count": 52
        }
      ]
    },
    {
      "cell_type": "markdown",
      "metadata": {
        "id": "9RCrYR9CBLTV",
        "colab_type": "text"
      },
      "source": [
        "The target is an integer, it should be bool 1 or 0. Let us do more EDA"
      ]
    },
    {
      "cell_type": "code",
      "metadata": {
        "id": "pHAi5OUVATbj",
        "colab_type": "code",
        "outputId": "ba7a54b8-082d-40b7-cbea-0363a20a87b4",
        "colab": {
          "base_uri": "https://localhost:8080/",
          "height": 201
        }
      },
      "source": [
        "train.info()"
      ],
      "execution_count": 53,
      "outputs": [
        {
          "output_type": "stream",
          "text": [
            "<class 'pandas.core.frame.DataFrame'>\n",
            "Int64Index: 7613 entries, 1 to 10873\n",
            "Data columns (total 4 columns):\n",
            " #   Column    Non-Null Count  Dtype \n",
            "---  ------    --------------  ----- \n",
            " 0   keyword   7552 non-null   object\n",
            " 1   location  5080 non-null   object\n",
            " 2   text      7613 non-null   object\n",
            " 3   target    7613 non-null   int64 \n",
            "dtypes: int64(1), object(3)\n",
            "memory usage: 297.4+ KB\n"
          ],
          "name": "stdout"
        }
      ]
    },
    {
      "cell_type": "code",
      "metadata": {
        "id": "tdAWGDbGAiQA",
        "colab_type": "code",
        "colab": {}
      },
      "source": [
        "import seaborn as sns"
      ],
      "execution_count": 0,
      "outputs": []
    },
    {
      "cell_type": "code",
      "metadata": {
        "id": "yf3YMJ3MBnqO",
        "colab_type": "code",
        "outputId": "4e1b2c26-6a0c-4912-b2a7-d371ccecf2a4",
        "colab": {
          "base_uri": "https://localhost:8080/",
          "height": 296
        }
      },
      "source": [
        "sns.countplot(x = 'target', data = train, palette = 'RdBu') #looks fine"
      ],
      "execution_count": 55,
      "outputs": [
        {
          "output_type": "execute_result",
          "data": {
            "text/plain": [
              "<matplotlib.axes._subplots.AxesSubplot at 0x7fc5ce75feb8>"
            ]
          },
          "metadata": {
            "tags": []
          },
          "execution_count": 55
        },
        {
          "output_type": "display_data",
          "data": {
            "image/png": "[encoded data removed]",
            "text/plain": [
              "<Figure size 432x288 with 1 Axes>"
            ]
          },
          "metadata": {
            "tags": [],
            "needs_background": "light"
          }
        }
      ]
    },
    {
      "cell_type": "markdown",
      "metadata": {
        "id": "uimYU3mvkJkT",
        "colab_type": "text"
      },
      "source": [
        "## Data prep"
      ]
    },
    {
      "cell_type": "code",
      "metadata": {
        "id": "ml8kMkmc_6fh",
        "colab_type": "code",
        "colab": {}
      },
      "source": [
        "train.drop([\"keyword\", \"location\"], axis = 1, inplace = True)\n",
        "test.drop([\"keyword\", \"location\"], axis = 1, inplace = True)"
      ],
      "execution_count": 0,
      "outputs": []
    },
    {
      "cell_type": "code",
      "metadata": {
        "id": "VxeUDNh2kNsr",
        "colab_type": "code",
        "colab": {}
      },
      "source": [
        "#clean tweet\n",
        "def clean_tweet(tweet):\n",
        "  tweet = BeautifulSoup(tweet, \"lxml\").get_text()\n",
        "  tweet = re.sub(r\"@[A-Za-z0-9]+\", ' ', tweet) #remove mentions\n",
        "  tweet = re.sub(r\"https?://[A-Za-z0-9./]+\", ' ', tweet)\n",
        "  tweet = re.sub(r\"[^a-zA-Z.!?']\", ' ', tweet)\n",
        "  tweet = re.sub(r\" +\", ' ', tweet)\n",
        "  return tweet"
      ],
      "execution_count": 0,
      "outputs": []
    },
    {
      "cell_type": "code",
      "metadata": {
        "id": "-1s3IUI2_9zb",
        "colab_type": "code",
        "colab": {}
      },
      "source": [
        "X_train = [clean_tweet(tweet) for tweet in train.text]\n",
        "#convert training lables to categorical\n",
        "data_lables = to_categorical(train.target)\n",
        "X_test = [clean_tweet(tweet) for tweet in test.text]"
      ],
      "execution_count": 0,
      "outputs": []
    },
    {
      "cell_type": "code",
      "metadata": {
        "id": "rp9Ie2RFCrlD",
        "colab_type": "code",
        "outputId": "2c8fba36-603f-414e-ace0-b60c9239a1f7",
        "colab": {
          "base_uri": "https://localhost:8080/",
          "height": 120
        }
      },
      "source": [
        "#preview\n",
        "X_train[0:5]"
      ],
      "execution_count": 163,
      "outputs": [
        {
          "output_type": "execute_result",
          "data": {
            "text/plain": [
              "['Our Deeds are the Reason of this earthquake May ALLAH Forgive us all',\n",
              " 'Forest fire near La Ronge Sask. Canada',\n",
              " \"All residents asked to 'shelter in place' are being notified by officers. No other evacuation or shelter in place orders are expected\",\n",
              " ' people receive wildfires evacuation orders in California ',\n",
              " 'Just got sent this photo from Ruby Alaska as smoke from wildfires pours into a school ']"
            ]
          },
          "metadata": {
            "tags": []
          },
          "execution_count": 163
        }
      ]
    },
    {
      "cell_type": "markdown",
      "metadata": {
        "id": "vaaQxSU9khvA",
        "colab_type": "text"
      },
      "source": [
        "## Tokenisation"
      ]
    },
    {
      "cell_type": "code",
      "metadata": {
        "id": "BIwWEHpBkfPI",
        "colab_type": "code",
        "colab": {}
      },
      "source": [
        "#creates a tokenizer from training data\n",
        "tokenizer = Tokenizer()\n",
        "tokenizer.fit_on_texts(X_train)"
      ],
      "execution_count": 0,
      "outputs": []
    },
    {
      "cell_type": "markdown",
      "metadata": {
        "id": "xOWG5LhAxdeT",
        "colab_type": "text"
      },
      "source": [
        "## Text to sequence"
      ]
    },
    {
      "cell_type": "code",
      "metadata": {
        "id": "FFktLa1Mk1nU",
        "colab_type": "code",
        "colab": {}
      },
      "source": [
        "#text to sequence\n",
        "X_train = tokenizer.texts_to_sequences(X_train)\n",
        "X_test = tokenizer.texts_to_sequences(X_test)"
      ],
      "execution_count": 0,
      "outputs": []
    },
    {
      "cell_type": "markdown",
      "metadata": {
        "id": "Q6_UQATQxlLM",
        "colab_type": "text"
      },
      "source": [
        "## Pad sequence"
      ]
    },
    {
      "cell_type": "code",
      "metadata": {
        "id": "mleC6U-vlCzp",
        "colab_type": "code",
        "colab": {}
      },
      "source": [
        "#Make each sentence have equal length\n",
        "#maximum length of a tweet\n",
        "sentence_len = 100\n",
        "#apply\n",
        "X_train = pad_sequences(X_train, maxlen = sentence_len)\n",
        "X_test = pad_sequences(X_test, maxlen = sentence_len)"
      ],
      "execution_count": 0,
      "outputs": []
    },
    {
      "cell_type": "code",
      "metadata": {
        "id": "8kmYR0oZDezy",
        "colab_type": "code",
        "outputId": "45ad3538-3e39-40b0-dbe0-eeed3263a291",
        "colab": {
          "base_uri": "https://localhost:8080/",
          "height": 33
        }
      },
      "source": [
        "X_train.shape"
      ],
      "execution_count": 91,
      "outputs": [
        {
          "output_type": "execute_result",
          "data": {
            "text/plain": [
              "(7613, 280)"
            ]
          },
          "metadata": {
            "tags": []
          },
          "execution_count": 91
        }
      ]
    },
    {
      "cell_type": "markdown",
      "metadata": {
        "id": "9HkgCZuJKBnM",
        "colab_type": "text"
      },
      "source": [
        "## GloVE word vectors\n",
        "You can download this language model here:\n",
        "\n",
        "https://nlp.stanford.edu/projects/glove/\n",
        "\n",
        "Filter glove to only use the words present in the vocabulary list "
      ]
    },
    {
      "cell_type": "code",
      "metadata": {
        "id": "TlFzeOcDG94X",
        "colab_type": "code",
        "outputId": "1a88dccc-b5a1-42a5-800a-9e6f3b0f86a4",
        "colab": {
          "base_uri": "https://localhost:8080/",
          "height": 33
        }
      },
      "source": [
        "#get glove embeddings, this takes a while to run\n",
        "glove_dic = {}\n",
        "f = open('/content/drive/My Drive/twitterfakenews/glove.twitter.27B/glove.twitter.27B.200d.txt','r',  encoding = 'utf-8')\n",
        "for line in f:\n",
        "    values = line.split()\n",
        "    word = values[0]\n",
        "    coefs = np.asarray(values[1:], dtype='float32')\n",
        "    glove_dic[word] = coefs\n",
        "f.close()\n",
        "\n",
        "print('Found %s word vectors.' % len(glove_dic))"
      ],
      "execution_count": 168,
      "outputs": [
        {
          "output_type": "stream",
          "text": [
            "Found 1193514 word vectors.\n"
          ],
          "name": "stdout"
        }
      ]
    },
    {
      "cell_type": "code",
      "metadata": {
        "id": "_fOZUl2MHHAW",
        "colab_type": "code",
        "outputId": "860f59b6-6704-4653-8411-6405c588202e",
        "colab": {
          "base_uri": "https://localhost:8080/",
          "height": 33
        }
      },
      "source": [
        "#get total words in vocabulary\n",
        "word_index = tokenizer.word_index\n",
        "print('Found %s unique tokens.' % len(word_index))"
      ],
      "execution_count": 169,
      "outputs": [
        {
          "output_type": "stream",
          "text": [
            "Found 14956 unique tokens.\n"
          ],
          "name": "stdout"
        }
      ]
    },
    {
      "cell_type": "code",
      "metadata": {
        "id": "FMYE2p8OHNbY",
        "colab_type": "code",
        "colab": {}
      },
      "source": [
        "#emedding dimension\n",
        "wordvec_dim = 200"
      ],
      "execution_count": 0,
      "outputs": []
    },
    {
      "cell_type": "code",
      "metadata": {
        "id": "dK4YxqynaM7U",
        "colab_type": "code",
        "colab": {}
      },
      "source": [
        "embedding_matrix = np.zeros((len(word_index) + 1, wordvec_dim))\n",
        "for word, i in word_index.items():\n",
        "    embedding_vector = glove_dic.get(word)\n",
        "    if embedding_vector is not None:\n",
        "        # words not found in embedding index will be all-zeros.\n",
        "        embedding_matrix[i] = embedding_vector"
      ],
      "execution_count": 0,
      "outputs": []
    },
    {
      "cell_type": "markdown",
      "metadata": {
        "id": "MjlqVm9woOKe",
        "colab_type": "text"
      },
      "source": [
        "## Model building"
      ]
    },
    {
      "cell_type": "code",
      "metadata": {
        "id": "mNn_sFlwoi96",
        "colab_type": "code",
        "colab": {}
      },
      "source": [
        "inp = Input(shape=(sentence_len,))\n",
        "x = Embedding(len(word_index) + 1, wordvec_dim, weights=[embedding_matrix])(inp)\n",
        "x = Bidirectional(LSTM(50, return_sequences=True, dropout=0.1, recurrent_dropout=0.1))(x)\n",
        "x = GlobalMaxPool1D()(x)\n",
        "x = Dense(50, activation=\"relu\")(x)\n",
        "x = Dropout(0.1)(x)\n",
        "x = Dense(1, activation=\"sigmoid\")(x)\n",
        "model = Model(inputs=inp, outputs=x)\n",
        "model.compile(loss='binary_crossentropy', optimizer='adam', metrics=['accuracy'])"
      ],
      "execution_count": 0,
      "outputs": []
    },
    {
      "cell_type": "code",
      "metadata": {
        "id": "gouLdp6ioIGe",
        "colab_type": "code",
        "outputId": "5d13110d-106b-46e9-bb02-97153711919b",
        "colab": {
          "base_uri": "https://localhost:8080/",
          "height": 254
        }
      },
      "source": [
        "# Train the model, iterating on the data in batches of 32 samples\n",
        "history = model.fit(X_train,  data_labels, epochs=5, batch_size=32, validation_split = .1)"
      ],
      "execution_count": 171,
      "outputs": [
        {
          "output_type": "stream",
          "text": [
            "/usr/local/lib/python3.6/dist-packages/tensorflow/python/framework/indexed_slices.py:434: UserWarning: Converting sparse IndexedSlices to a dense Tensor of unknown shape. This may consume a large amount of memory.\n",
            "  \"Converting sparse IndexedSlices to a dense Tensor of unknown shape. \"\n"
          ],
          "name": "stderr"
        },
        {
          "output_type": "stream",
          "text": [
            "Train on 6851 samples, validate on 762 samples\n",
            "Epoch 1/5\n",
            "6851/6851 [==============================] - 48s 7ms/step - loss: 0.4783 - accuracy: 0.7738 - val_loss: 0.4160 - val_accuracy: 0.8097\n",
            "Epoch 2/5\n",
            "6851/6851 [==============================] - 46s 7ms/step - loss: 0.3611 - accuracy: 0.8482 - val_loss: 0.4299 - val_accuracy: 0.8058\n",
            "Epoch 3/5\n",
            "6851/6851 [==============================] - 47s 7ms/step - loss: 0.2745 - accuracy: 0.8918 - val_loss: 0.4518 - val_accuracy: 0.8071\n",
            "Epoch 4/5\n",
            "6851/6851 [==============================] - 48s 7ms/step - loss: 0.1985 - accuracy: 0.9240 - val_loss: 0.5305 - val_accuracy: 0.7927\n",
            "Epoch 5/5\n",
            "6851/6851 [==============================] - 48s 7ms/step - loss: 0.1343 - accuracy: 0.9501 - val_loss: 0.5749 - val_accuracy: 0.8084\n"
          ],
          "name": "stdout"
        }
      ]
    },
    {
      "cell_type": "code",
      "metadata": {
        "id": "NsP6M9pft33_",
        "colab_type": "code",
        "colab": {
          "base_uri": "https://localhost:8080/",
          "height": 573
        },
        "outputId": "b7bf6bd8-b136-42f8-a985-8e47c18b620f"
      },
      "source": [
        "# summarize history for accuracy\n",
        "plt.plot(history.history['accuracy'])\n",
        "plt.plot(history.history['val_accuracy'])\n",
        "plt.title('model accuracy')\n",
        "plt.ylabel('accuracy')\n",
        "plt.xlabel('epoch')\n",
        "plt.legend(['train', 'test'], loc='upper left')\n",
        "plt.show()\n",
        "# summarize history for loss\n",
        "plt.plot(history.history['loss'])\n",
        "plt.plot(history.history['val_loss'])\n",
        "plt.title('model loss')\n",
        "plt.ylabel('loss')\n",
        "plt.xlabel('epoch')\n",
        "plt.legend(['train', 'test'], loc='upper left')\n",
        "plt.show()"
      ],
      "execution_count": 172,
      "outputs": [
        {
          "output_type": "display_data",
          "data": {
            "image/png": "[encoded data removed]",
            "text/plain": [
              "<Figure size 432x288 with 1 Axes>"
            ]
          },
          "metadata": {
            "tags": [],
            "needs_background": "light"
          }
        },
        {
          "output_type": "display_data",
          "data": {
            "image/png": "[encoded data removed]",
            "text/plain": [
              "<Figure size 432x288 with 1 Axes>"
            ]
          },
          "metadata": {
            "tags": [],
            "needs_background": "light"
          }
        }
      ]
    },
    {
      "cell_type": "markdown",
      "metadata": {
        "id": "SQPiXe07ovym",
        "colab_type": "text"
      },
      "source": [
        "#Make predictions\n"
      ]
    },
    {
      "cell_type": "code",
      "metadata": {
        "id": "6FaUxz6NozZv",
        "colab_type": "code",
        "colab": {}
      },
      "source": [
        "pred_probabilities = model.predict(X_test)"
      ],
      "execution_count": 0,
      "outputs": []
    },
    {
      "cell_type": "code",
      "metadata": {
        "id": "KnPHfxS_5Ipf",
        "colab_type": "code",
        "outputId": "9609ad8d-1cbc-4f37-b606-0138044a471c",
        "colab": {
          "base_uri": "https://localhost:8080/",
          "height": 134
        }
      },
      "source": [
        "pred_probabilities"
      ],
      "execution_count": 174,
      "outputs": [
        {
          "output_type": "execute_result",
          "data": {
            "text/plain": [
              "array([[0.92566717],\n",
              "       [0.8852686 ],\n",
              "       [0.99495226],\n",
              "       ...,\n",
              "       [0.9646762 ],\n",
              "       [0.6355789 ],\n",
              "       [0.80977356]], dtype=float32)"
            ]
          },
          "metadata": {
            "tags": []
          },
          "execution_count": 174
        }
      ]
    },
    {
      "cell_type": "code",
      "metadata": {
        "id": "V0McG5Ewmat-",
        "colab_type": "code",
        "colab": {}
      },
      "source": [
        "y_pred = np.matrix( pred_probabilities)\n",
        "pred = pd.DataFrame(y_pred)\n",
        "ids = pd.DataFrame(test[['id']])\n",
        "df = pd.concat([ids, pred], axis = 1)\n",
        "df.columns = ['id', 'target']\n",
        "df.set_index('id', inplace=True)"
      ],
      "execution_count": 0,
      "outputs": []
    },
    {
      "cell_type": "code",
      "metadata": {
        "id": "-miiz04_mOBj",
        "colab_type": "code",
        "colab": {}
      },
      "source": [
        "df['target'] = df['target'].apply(lambda x: 0 if x < .5 else 1)"
      ],
      "execution_count": 0,
      "outputs": []
    },
    {
      "cell_type": "code",
      "metadata": {
        "id": "FRIBg0s_mq1F",
        "colab_type": "code",
        "colab": {
          "base_uri": "https://localhost:8080/",
          "height": 226
        },
        "outputId": "733037cf-20c6-4c16-e602-91dd43ccc4f8"
      },
      "source": [
        "df.head()"
      ],
      "execution_count": 177,
      "outputs": [
        {
          "output_type": "execute_result",
          "data": {
            "text/html": [
              "<div>\n",
              "<style scoped>\n",
              "    .dataframe tbody tr th:only-of-type {\n",
              "        vertical-align: middle;\n",
              "    }\n",
              "\n",
              "    .dataframe tbody tr th {\n",
              "        vertical-align: top;\n",
              "    }\n",
              "\n",
              "    .dataframe thead th {\n",
              "        text-align: right;\n",
              "    }\n",
              "</style>\n",
              "<table border=\"1\" class=\"dataframe\">\n",
              "  <thead>\n",
              "    <tr style=\"text-align: right;\">\n",
              "      <th></th>\n",
              "      <th>target</th>\n",
              "    </tr>\n",
              "    <tr>\n",
              "      <th>id</th>\n",
              "      <th></th>\n",
              "    </tr>\n",
              "  </thead>\n",
              "  <tbody>\n",
              "    <tr>\n",
              "      <th>0</th>\n",
              "      <td>1</td>\n",
              "    </tr>\n",
              "    <tr>\n",
              "      <th>2</th>\n",
              "      <td>1</td>\n",
              "    </tr>\n",
              "    <tr>\n",
              "      <th>3</th>\n",
              "      <td>1</td>\n",
              "    </tr>\n",
              "    <tr>\n",
              "      <th>9</th>\n",
              "      <td>1</td>\n",
              "    </tr>\n",
              "    <tr>\n",
              "      <th>11</th>\n",
              "      <td>1</td>\n",
              "    </tr>\n",
              "  </tbody>\n",
              "</table>\n",
              "</div>"
            ],
            "text/plain": [
              "    target\n",
              "id        \n",
              "0        1\n",
              "2        1\n",
              "3        1\n",
              "9        1\n",
              "11       1"
            ]
          },
          "metadata": {
            "tags": []
          },
          "execution_count": 177
        }
      ]
    },
    {
      "cell_type": "code",
      "metadata": {
        "id": "YVmGkDUq6pvK",
        "colab_type": "code",
        "colab": {}
      },
      "source": [
        "#save\n",
        "df.to_csv(\"/content/drive/My Drive/twitterfakenews/mysubmission.csv\")"
      ],
      "execution_count": 0,
      "outputs": []
    },
    {
      "cell_type": "markdown",
      "metadata": {
        "id": "uFDJEHcaN6i2",
        "colab_type": "text"
      },
      "source": [
        "I got a score on kaggle of *0.77536* (without, cleaning the tweets), much better than the zero, without embedding layer"
      ]
    },
    {
      "cell_type": "code",
      "metadata": {
        "id": "TPTu42Qp6tHU",
        "colab_type": "code",
        "colab": {}
      },
      "source": [
        "#submit to kaggle\n",
        "!kaggle competitions submit -c nlp-getting-started -f submission_three.csv -m \"2ndsubmission\""
      ],
      "execution_count": 0,
      "outputs": []
    }
  ]
}