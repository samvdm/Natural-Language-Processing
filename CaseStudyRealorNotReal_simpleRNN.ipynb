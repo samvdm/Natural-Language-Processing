{
  "nbformat": 4,
  "nbformat_minor": 0,
  "metadata": {
    "colab": {
      "name": "CaseStudyRealorNotReal_simpleRNN.ipynb",
      "provenance": [],
      "collapsed_sections": [],
      "toc_visible": true
    },
    "kernelspec": {
      "name": "python3",
      "display_name": "Python 3"
    }
  },
  "cells": [
    {
      "cell_type": "markdown",
      "metadata": {
        "id": "avJSHhHXyriy",
        "colab_type": "text"
      },
      "source": [
        "# Getting Started Keras RNNs\n",
        "\n",
        "Text data is everywhere and there is plenty of it Therefore it is of no surprise that the analysis of text data has gained popularity in Machine learning. A few applications of machine learning on text data include:\n",
        "\n",
        "1. Machine translation\n",
        "2. Sentiment classification\n",
        "3. Multi-class classification \n",
        "4. Text generations (e.g question and answer systems)\n",
        "5. Entity extraction\n",
        "\n",
        "Recurrent neural networks (RNNs) have been the popular algorithm to solve these problems.\n",
        "\n",
        "In this tutorial, we therefore demonstrate how to use an RNN to classify text data. \n"
      ]
    },
    {
      "cell_type": "markdown",
      "metadata": {
        "id": "RWFsVPCvE8St",
        "colab_type": "text"
      },
      "source": [
        "## The data set\n",
        "\n",
        "The data set that we will be looking at is the real or not real twitter data downloaded from [kaggle.](https://www.kaggle.com/c/nlp-getting-started)\n",
        "\n",
        "This is a binary classification task and we use glove emmeddings"
      ]
    },
    {
      "cell_type": "code",
      "metadata": {
        "id": "ByIlz6o5E7kG",
        "colab_type": "code",
        "colab": {}
      },
      "source": [
        "#import all dependencies\n",
        "import numpy as np\n",
        "import math\n",
        "import re\n",
        "import pandas as pd\n",
        "from bs4 import BeautifulSoup\n",
        "import random\n",
        "from google.colab import drive"
      ],
      "execution_count": 0,
      "outputs": []
    },
    {
      "cell_type": "code",
      "metadata": {
        "id": "yIL4WlzRkx0A",
        "colab_type": "code",
        "colab": {}
      },
      "source": [
        "from keras.preprocessing.text import Tokenizer\n",
        "from keras.preprocessing.sequence import pad_sequences\n",
        "from keras.utils.np_utils import to_categorical\n",
        "from sklearn.model_selection import train_test_split\n",
        "from keras.models import Sequential\n",
        "from keras.layers import LSTM, Dense, Embedding, GRU, Dropout, SimpleRNN\n",
        "from keras.initializers import Constant\n",
        "import os\n",
        "import sys"
      ],
      "execution_count": 0,
      "outputs": []
    },
    {
      "cell_type": "code",
      "metadata": {
        "id": "GPRmSQtSi8Yu",
        "colab_type": "code",
        "colab": {
          "base_uri": "https://localhost:8080/",
          "height": 120
        },
        "outputId": "cf9fa3ed-a2b1-4ae2-ebdf-348de08be6f8"
      },
      "source": [
        "drive.mount(\"/content/drive\")"
      ],
      "execution_count": 8,
      "outputs": [
        {
          "output_type": "stream",
          "text": [
            "Go to this URL in a browser: https://accounts.google.com/o/oauth2/auth?client_id=947318989803-6bn6qk8qdgf4n4g3pfee6491hc0brc4i.apps.googleusercontent.com&redirect_uri=urn%3aietf%3awg%3aoauth%3a2.0%3aoob&response_type=code&scope=email%20https%3a%2f%2fwww.googleapis.com%2fauth%2fdocs.test%20https%3a%2f%2fwww.googleapis.com%2fauth%2fdrive%20https%3a%2f%2fwww.googleapis.com%2fauth%2fdrive.photos.readonly%20https%3a%2f%2fwww.googleapis.com%2fauth%2fpeopleapi.readonly\n",
            "\n",
            "Enter your authorization code:\n",
            "··········\n",
            "Mounted at /content/drive\n"
          ],
          "name": "stdout"
        }
      ]
    },
    {
      "cell_type": "code",
      "metadata": {
        "id": "mMd-H5ZijDwl",
        "colab_type": "code",
        "colab": {}
      },
      "source": [
        "train = pd.read_csv(\"/content/drive/My Drive/twitterfakenews/train.csv\", engine=\"python\", encoding = \"latin1\", index_col = 'id')\n",
        "test = pd.read_csv(\"/content/drive/My Drive/twitterfakenews/test.csv\", engine=\"python\", encoding = \"latin1\", index_col = 'id')"
      ],
      "execution_count": 0,
      "outputs": []
    },
    {
      "cell_type": "code",
      "metadata": {
        "id": "QVAUksMhE_06",
        "colab_type": "code",
        "colab": {
          "base_uri": "https://localhost:8080/",
          "height": 226
        },
        "outputId": "116547cb-69b4-4b28-dcac-449d41a27468"
      },
      "source": [
        "train.head()"
      ],
      "execution_count": 14,
      "outputs": [
        {
          "output_type": "execute_result",
          "data": {
            "text/html": [
              "<div>\n",
              "<style scoped>\n",
              "    .dataframe tbody tr th:only-of-type {\n",
              "        vertical-align: middle;\n",
              "    }\n",
              "\n",
              "    .dataframe tbody tr th {\n",
              "        vertical-align: top;\n",
              "    }\n",
              "\n",
              "    .dataframe thead th {\n",
              "        text-align: right;\n",
              "    }\n",
              "</style>\n",
              "<table border=\"1\" class=\"dataframe\">\n",
              "  <thead>\n",
              "    <tr style=\"text-align: right;\">\n",
              "      <th></th>\n",
              "      <th>keyword</th>\n",
              "      <th>location</th>\n",
              "      <th>text</th>\n",
              "      <th>target</th>\n",
              "    </tr>\n",
              "    <tr>\n",
              "      <th>id</th>\n",
              "      <th></th>\n",
              "      <th></th>\n",
              "      <th></th>\n",
              "      <th></th>\n",
              "    </tr>\n",
              "  </thead>\n",
              "  <tbody>\n",
              "    <tr>\n",
              "      <th>1</th>\n",
              "      <td>NaN</td>\n",
              "      <td>NaN</td>\n",
              "      <td>Our Deeds are the Reason of this #earthquake M...</td>\n",
              "      <td>1</td>\n",
              "    </tr>\n",
              "    <tr>\n",
              "      <th>4</th>\n",
              "      <td>NaN</td>\n",
              "      <td>NaN</td>\n",
              "      <td>Forest fire near La Ronge Sask. Canada</td>\n",
              "      <td>1</td>\n",
              "    </tr>\n",
              "    <tr>\n",
              "      <th>5</th>\n",
              "      <td>NaN</td>\n",
              "      <td>NaN</td>\n",
              "      <td>All residents asked to 'shelter in place' are ...</td>\n",
              "      <td>1</td>\n",
              "    </tr>\n",
              "    <tr>\n",
              "      <th>6</th>\n",
              "      <td>NaN</td>\n",
              "      <td>NaN</td>\n",
              "      <td>13,000 people receive #wildfires evacuation or...</td>\n",
              "      <td>1</td>\n",
              "    </tr>\n",
              "    <tr>\n",
              "      <th>7</th>\n",
              "      <td>NaN</td>\n",
              "      <td>NaN</td>\n",
              "      <td>Just got sent this photo from Ruby #Alaska as ...</td>\n",
              "      <td>1</td>\n",
              "    </tr>\n",
              "  </tbody>\n",
              "</table>\n",
              "</div>"
            ],
            "text/plain": [
              "   keyword location                                               text  target\n",
              "id                                                                            \n",
              "1      NaN      NaN  Our Deeds are the Reason of this #earthquake M...       1\n",
              "4      NaN      NaN             Forest fire near La Ronge Sask. Canada       1\n",
              "5      NaN      NaN  All residents asked to 'shelter in place' are ...       1\n",
              "6      NaN      NaN  13,000 people receive #wildfires evacuation or...       1\n",
              "7      NaN      NaN  Just got sent this photo from Ruby #Alaska as ...       1"
            ]
          },
          "metadata": {
            "tags": []
          },
          "execution_count": 14
        }
      ]
    },
    {
      "cell_type": "code",
      "metadata": {
        "id": "nDpl1UE3FETU",
        "colab_type": "code",
        "colab": {}
      },
      "source": [
        "train.drop([\"keyword\", \"location\"], axis = 1, inplace = True)\n",
        "test.drop([\"keyword\", \"location\"], axis = 1, inplace = True)"
      ],
      "execution_count": 0,
      "outputs": []
    },
    {
      "cell_type": "markdown",
      "metadata": {
        "id": "uimYU3mvkJkT",
        "colab_type": "text"
      },
      "source": [
        "## Cleaning tweets"
      ]
    },
    {
      "cell_type": "code",
      "metadata": {
        "id": "258RoR1JFF5x",
        "colab_type": "code",
        "colab": {}
      },
      "source": [
        "#clean tweet\n",
        "def clean_tweet(tweet):\n",
        "  tweet = BeautifulSoup(tweet, \"lxml\").get_text()\n",
        "  tweet = re.sub(r\"@[A-Za-z0-9]+\", ' ', tweet) #remove mentions\n",
        "  tweet = re.sub(r\"https?://[A-Za-z0-9./]+\", ' ', tweet)\n",
        "  tweet = re.sub(r\"[^a-zA-Z.!?']\", ' ', tweet)\n",
        "  tweet = re.sub(r\" +\", ' ', tweet)\n",
        "  return tweet"
      ],
      "execution_count": 0,
      "outputs": []
    },
    {
      "cell_type": "code",
      "metadata": {
        "id": "VxeUDNh2kNsr",
        "colab_type": "code",
        "colab": {}
      },
      "source": [
        "data_clean = [clean_tweet(tweet) for tweet in train.text]\n",
        "data_labels = data.target.values #numpy format\n",
        "test_clean = [clean_tweet(tweet) for tweet in test.text]"
      ],
      "execution_count": 0,
      "outputs": []
    },
    {
      "cell_type": "markdown",
      "metadata": {
        "id": "vaaQxSU9khvA",
        "colab_type": "text"
      },
      "source": [
        "## Tokenisation"
      ]
    },
    {
      "cell_type": "code",
      "metadata": {
        "id": "BIwWEHpBkfPI",
        "colab_type": "code",
        "colab": {}
      },
      "source": [
        "#creates a tokenizer from training data\n",
        "tokenizer = Tokenizer()\n",
        "tokenizer.fit_on_texts(data_clean)"
      ],
      "execution_count": 0,
      "outputs": []
    },
    {
      "cell_type": "markdown",
      "metadata": {
        "id": "xOWG5LhAxdeT",
        "colab_type": "text"
      },
      "source": [
        "## Text to sequence"
      ]
    },
    {
      "cell_type": "code",
      "metadata": {
        "id": "FFktLa1Mk1nU",
        "colab_type": "code",
        "colab": {}
      },
      "source": [
        "#text to sequence\n",
        "data_clean = tokenizer.texts_to_sequences(data_clean)\n",
        "test_clean = tokenizer.texts_to_sequences(test_clean)"
      ],
      "execution_count": 0,
      "outputs": []
    },
    {
      "cell_type": "markdown",
      "metadata": {
        "id": "Q6_UQATQxlLM",
        "colab_type": "text"
      },
      "source": [
        "## Pad sequence"
      ]
    },
    {
      "cell_type": "code",
      "metadata": {
        "id": "mleC6U-vlCzp",
        "colab_type": "code",
        "colab": {}
      },
      "source": [
        "#Make each sentence have equal length\n",
        "#maximum length of a tweet\n",
        "sentence_len = 280\n",
        "#apply\n",
        "data_clean = pad_sequences(data_clean, maxlen = sentence_len)\n",
        "test_clean = pad_sequences(test_clean, maxlen = sentence_len)"
      ],
      "execution_count": 0,
      "outputs": []
    },
    {
      "cell_type": "code",
      "metadata": {
        "id": "6-d6ezsy3uwU",
        "colab_type": "code",
        "colab": {}
      },
      "source": [
        "#reshape data to three dimensions\n",
        "data_clean = data_clean.reshape(data_clean.shape[0], 1, data_clean.shape[1])"
      ],
      "execution_count": 0,
      "outputs": []
    },
    {
      "cell_type": "markdown",
      "metadata": {
        "id": "MjlqVm9woOKe",
        "colab_type": "text"
      },
      "source": [
        "## Model building"
      ]
    },
    {
      "cell_type": "code",
      "metadata": {
        "id": "MVRUG1vt2Aj6",
        "colab_type": "code",
        "colab": {}
      },
      "source": [
        "# Build simple RNN model\n",
        "model = Sequential()\n",
        "model.add(SimpleRNN(units=128, input_shape=(1, data_clean.shape[1])))\n",
        "model.add(Dense(1, activation='sigmoid'))\n",
        "model.compile(loss='binary_crossentropy', \n",
        "              optimizer='adam',\n",
        "              metrics=['accuracy'])"
      ],
      "execution_count": 0,
      "outputs": []
    },
    {
      "cell_type": "code",
      "metadata": {
        "id": "gouLdp6ioIGe",
        "colab_type": "code",
        "colab": {
          "base_uri": "https://localhost:8080/",
          "height": 368
        },
        "outputId": "95c6f9b6-0796-4966-b378-e563c32136ff"
      },
      "source": [
        "# Train the model, iterating on the data in batches of 32 samples\n",
        "model.fit(data_clean,  data_labels, epochs=10, batch_size=32)"
      ],
      "execution_count": 54,
      "outputs": [
        {
          "output_type": "stream",
          "text": [
            "Epoch 1/10\n",
            "7613/7613 [==============================] - 1s 89us/step - loss: 0.7346 - accuracy: 0.5442\n",
            "Epoch 2/10\n",
            "7613/7613 [==============================] - 0s 63us/step - loss: 0.6915 - accuracy: 0.5766\n",
            "Epoch 3/10\n",
            "7613/7613 [==============================] - 0s 64us/step - loss: 0.6846 - accuracy: 0.5772\n",
            "Epoch 4/10\n",
            "7613/7613 [==============================] - 0s 65us/step - loss: 0.6790 - accuracy: 0.5812\n",
            "Epoch 5/10\n",
            "7613/7613 [==============================] - 0s 63us/step - loss: 0.6764 - accuracy: 0.5832\n",
            "Epoch 6/10\n",
            "7613/7613 [==============================] - 0s 62us/step - loss: 0.6711 - accuracy: 0.5861\n",
            "Epoch 7/10\n",
            "7613/7613 [==============================] - 1s 69us/step - loss: 0.6711 - accuracy: 0.5924\n",
            "Epoch 8/10\n",
            "7613/7613 [==============================] - 0s 63us/step - loss: 0.6696 - accuracy: 0.5950\n",
            "Epoch 9/10\n",
            "7613/7613 [==============================] - 0s 64us/step - loss: 0.6677 - accuracy: 0.5875\n",
            "Epoch 10/10\n",
            "7613/7613 [==============================] - 0s 62us/step - loss: 0.6695 - accuracy: 0.5818\n"
          ],
          "name": "stdout"
        },
        {
          "output_type": "execute_result",
          "data": {
            "text/plain": [
              "<keras.callbacks.callbacks.History at 0x7f3a3ebe4ef0>"
            ]
          },
          "metadata": {
            "tags": []
          },
          "execution_count": 54
        }
      ]
    },
    {
      "cell_type": "markdown",
      "metadata": {
        "id": "SQPiXe07ovym",
        "colab_type": "text"
      },
      "source": [
        "#Make predictions\n"
      ]
    },
    {
      "cell_type": "code",
      "metadata": {
        "id": "Cs87uzLv5LYQ",
        "colab_type": "code",
        "colab": {}
      },
      "source": [
        "#reshape data to three dimensions\n",
        "test_clean = test_clean.reshape(test_clean.shape[0], 1, test_clean.shape[1])"
      ],
      "execution_count": 0,
      "outputs": []
    },
    {
      "cell_type": "code",
      "metadata": {
        "id": "6FaUxz6NozZv",
        "colab_type": "code",
        "colab": {}
      },
      "source": [
        "pred_probabilities = model.predict(test_clean)"
      ],
      "execution_count": 0,
      "outputs": []
    },
    {
      "cell_type": "code",
      "metadata": {
        "id": "KnPHfxS_5Ipf",
        "colab_type": "code",
        "colab": {
          "base_uri": "https://localhost:8080/",
          "height": 134
        },
        "outputId": "29a0168d-0a30-4ab0-9d6b-0f5166b42862"
      },
      "source": [
        "pred_probabilities"
      ],
      "execution_count": 60,
      "outputs": [
        {
          "output_type": "execute_result",
          "data": {
            "text/plain": [
              "array([[0.48385456],\n",
              "       [0.5136489 ],\n",
              "       [0.41977155],\n",
              "       ...,\n",
              "       [0.38870615],\n",
              "       [0.41915676],\n",
              "       [0.3834207 ]], dtype=float32)"
            ]
          },
          "metadata": {
            "tags": []
          },
          "execution_count": 60
        }
      ]
    },
    {
      "cell_type": "code",
      "metadata": {
        "id": "5vK5HUeU6FkL",
        "colab_type": "code",
        "colab": {}
      },
      "source": [
        "#convert probabilities to 1 and 0\n",
        "y_pred = np.matrix( pred_probabilities)\n",
        "y_pred[y_pred > 0.5] = 1\n",
        "y_pred[y_pred <= 0.5] = 0"
      ],
      "execution_count": 0,
      "outputs": []
    },
    {
      "cell_type": "code",
      "metadata": {
        "id": "RfIor47j6jpr",
        "colab_type": "code",
        "colab": {}
      },
      "source": [
        "test = pd.read_csv(\"/content/drive/My Drive/twitterfakenews/test.csv\", engine=\"python\", encoding = \"latin1\")"
      ],
      "execution_count": 0,
      "outputs": []
    },
    {
      "cell_type": "code",
      "metadata": {
        "id": "4w7TP_zd6G-o",
        "colab_type": "code",
        "colab": {}
      },
      "source": [
        "#save predictions\n",
        "pred = pd.DataFrame(y_pred)\n",
        "ids = pd.DataFrame(test[['id']])\n",
        "df = pd.concat([ids, pred], axis = 1)\n",
        "df.columns = ['id', 'target']\n",
        "df.set_index('id', inplace=True)"
      ],
      "execution_count": 0,
      "outputs": []
    },
    {
      "cell_type": "code",
      "metadata": {
        "id": "VYhNfZ7v6YAm",
        "colab_type": "code",
        "colab": {
          "base_uri": "https://localhost:8080/",
          "height": 226
        },
        "outputId": "d6349884-e793-4a70-b8ef-2c33f4985110"
      },
      "source": [
        "df.head()"
      ],
      "execution_count": 65,
      "outputs": [
        {
          "output_type": "execute_result",
          "data": {
            "text/html": [
              "<div>\n",
              "<style scoped>\n",
              "    .dataframe tbody tr th:only-of-type {\n",
              "        vertical-align: middle;\n",
              "    }\n",
              "\n",
              "    .dataframe tbody tr th {\n",
              "        vertical-align: top;\n",
              "    }\n",
              "\n",
              "    .dataframe thead th {\n",
              "        text-align: right;\n",
              "    }\n",
              "</style>\n",
              "<table border=\"1\" class=\"dataframe\">\n",
              "  <thead>\n",
              "    <tr style=\"text-align: right;\">\n",
              "      <th></th>\n",
              "      <th>target</th>\n",
              "    </tr>\n",
              "    <tr>\n",
              "      <th>id</th>\n",
              "      <th></th>\n",
              "    </tr>\n",
              "  </thead>\n",
              "  <tbody>\n",
              "    <tr>\n",
              "      <th>0</th>\n",
              "      <td>0.0</td>\n",
              "    </tr>\n",
              "    <tr>\n",
              "      <th>2</th>\n",
              "      <td>1.0</td>\n",
              "    </tr>\n",
              "    <tr>\n",
              "      <th>3</th>\n",
              "      <td>0.0</td>\n",
              "    </tr>\n",
              "    <tr>\n",
              "      <th>9</th>\n",
              "      <td>0.0</td>\n",
              "    </tr>\n",
              "    <tr>\n",
              "      <th>11</th>\n",
              "      <td>0.0</td>\n",
              "    </tr>\n",
              "  </tbody>\n",
              "</table>\n",
              "</div>"
            ],
            "text/plain": [
              "    target\n",
              "id        \n",
              "0      0.0\n",
              "2      1.0\n",
              "3      0.0\n",
              "9      0.0\n",
              "11     0.0"
            ]
          },
          "metadata": {
            "tags": []
          },
          "execution_count": 65
        }
      ]
    },
    {
      "cell_type": "code",
      "metadata": {
        "id": "YVmGkDUq6pvK",
        "colab_type": "code",
        "colab": {}
      },
      "source": [
        "#save\n",
        "df.to_csv(\"/content/drive/My Drive/twitterfakenews/submission_three.csv\")"
      ],
      "execution_count": 0,
      "outputs": []
    },
    {
      "cell_type": "code",
      "metadata": {
        "id": "TPTu42Qp6tHU",
        "colab_type": "code",
        "colab": {}
      },
      "source": [
        "#submit to kaggle\n",
        "!kaggle competitions submit -c nlp-getting-started -f submission_three.csv -m \"2ndsubmission\""
      ],
      "execution_count": 0,
      "outputs": []
    }
  ]
}