{
  "nbformat": 4,
  "nbformat_minor": 0,
  "metadata": {
    "colab": {
      "name": "CaseStudyRealorNotReal_simpleRNN.ipynb",
      "provenance": [],
      "collapsed_sections": [],
      "toc_visible": true
    },
    "kernelspec": {
      "name": "python3",
      "display_name": "Python 3"
    }
  },
  "cells": [
    {
      "cell_type": "markdown",
      "metadata": {
        "id": "avJSHhHXyriy",
        "colab_type": "text"
      },
      "source": [
        "# Getting Started Keras RNNs\n",
        "\n",
        "Text data is everywhere and there is plenty of it Therefore it is of no surprise that the analysis of text data has gained popularity in Machine learning. A few applications of machine learning on text data include:\n",
        "\n",
        "1. Machine translation\n",
        "2. Sentiment classification\n",
        "3. Multi-class classification \n",
        "4. Text generations (e.g question and answer systems)\n",
        "5. Entity extraction\n",
        "\n",
        "Recurrent neural networks (RNNs) have been the popular algorithm to solve these problems.\n",
        "\n",
        "In this tutorial, we therefore demonstrate how to use an RNN to classify text data. \n"
      ]
    },
    {
      "cell_type": "markdown",
      "metadata": {
        "id": "RWFsVPCvE8St",
        "colab_type": "text"
      },
      "source": [
        "## The data set\n",
        "\n",
        "The data set that we will be looking at is the real or not real twitter data downloaded from [kaggle.](https://www.kaggle.com/c/nlp-getting-started)\n",
        "\n",
        "This is a binary classification task and we use glove emmeddings"
      ]
    },
    {
      "cell_type": "code",
      "metadata": {
        "id": "ByIlz6o5E7kG",
        "colab_type": "code",
        "colab": {}
      },
      "source": [
        "#import all dependencies\n",
        "import numpy as np\n",
        "import math\n",
        "import re\n",
        "import pandas as pd\n",
        "from bs4 import BeautifulSoup\n",
        "import random\n",
        "from google.colab import drive"
      ],
      "execution_count": 0,
      "outputs": []
    },
    {
      "cell_type": "code",
      "metadata": {
        "id": "yIL4WlzRkx0A",
        "colab_type": "code",
        "colab": {
          "base_uri": "https://localhost:8080/",
          "height": 33
        },
        "outputId": "a4647f81-c66f-44f1-8290-7773efc11062"
      },
      "source": [
        "from keras.preprocessing.text import Tokenizer\n",
        "from keras.preprocessing.sequence import pad_sequences\n",
        "from keras.utils.np_utils import to_categorical\n",
        "from sklearn.model_selection import train_test_split\n",
        "from keras.models import Sequential\n",
        "from keras.layers import LSTM, Dense, Embedding, GRU, Dropout, SimpleRNN\n",
        "from keras.initializers import Constant\n",
        "import os\n",
        "import sys"
      ],
      "execution_count": 2,
      "outputs": [
        {
          "output_type": "stream",
          "text": [
            "Using TensorFlow backend.\n"
          ],
          "name": "stderr"
        }
      ]
    },
    {
      "cell_type": "code",
      "metadata": {
        "id": "GPRmSQtSi8Yu",
        "colab_type": "code",
        "colab": {
          "base_uri": "https://localhost:8080/",
          "height": 120
        },
        "outputId": "c8135437-b124-4375-982f-c98302fb5297"
      },
      "source": [
        "drive.mount(\"/content/drive\")"
      ],
      "execution_count": 3,
      "outputs": [
        {
          "output_type": "stream",
          "text": [
            "Go to this URL in a browser: https://accounts.google.com/o/oauth2/auth?client_id=947318989803-6bn6qk8qdgf4n4g3pfee6491hc0brc4i.apps.googleusercontent.com&redirect_uri=urn%3aietf%3awg%3aoauth%3a2.0%3aoob&response_type=code&scope=email%20https%3a%2f%2fwww.googleapis.com%2fauth%2fdocs.test%20https%3a%2f%2fwww.googleapis.com%2fauth%2fdrive%20https%3a%2f%2fwww.googleapis.com%2fauth%2fdrive.photos.readonly%20https%3a%2f%2fwww.googleapis.com%2fauth%2fpeopleapi.readonly\n",
            "\n",
            "Enter your authorization code:\n",
            "··········\n",
            "Mounted at /content/drive\n"
          ],
          "name": "stdout"
        }
      ]
    },
    {
      "cell_type": "code",
      "metadata": {
        "id": "mMd-H5ZijDwl",
        "colab_type": "code",
        "colab": {}
      },
      "source": [
        "train = pd.read_csv(\"/content/drive/My Drive/twitterfakenews/train.csv\", engine=\"python\", encoding = \"latin1\", index_col = 'id')\n",
        "test = pd.read_csv(\"/content/drive/My Drive/twitterfakenews/test.csv\", engine=\"python\", encoding = \"latin1\")"
      ],
      "execution_count": 0,
      "outputs": []
    },
    {
      "cell_type": "markdown",
      "metadata": {
        "id": "68tBfwAeCXZn",
        "colab_type": "text"
      },
      "source": [
        "## High level EDA"
      ]
    },
    {
      "cell_type": "code",
      "metadata": {
        "id": "QVAUksMhE_06",
        "colab_type": "code",
        "colab": {
          "base_uri": "https://localhost:8080/",
          "height": 226
        },
        "outputId": "ff431595-5d0a-43a6-df60-7ea3b3d66518"
      },
      "source": [
        "train.head()"
      ],
      "execution_count": 16,
      "outputs": [
        {
          "output_type": "execute_result",
          "data": {
            "text/html": [
              "<div>\n",
              "<style scoped>\n",
              "    .dataframe tbody tr th:only-of-type {\n",
              "        vertical-align: middle;\n",
              "    }\n",
              "\n",
              "    .dataframe tbody tr th {\n",
              "        vertical-align: top;\n",
              "    }\n",
              "\n",
              "    .dataframe thead th {\n",
              "        text-align: right;\n",
              "    }\n",
              "</style>\n",
              "<table border=\"1\" class=\"dataframe\">\n",
              "  <thead>\n",
              "    <tr style=\"text-align: right;\">\n",
              "      <th></th>\n",
              "      <th>keyword</th>\n",
              "      <th>location</th>\n",
              "      <th>text</th>\n",
              "      <th>target</th>\n",
              "    </tr>\n",
              "    <tr>\n",
              "      <th>id</th>\n",
              "      <th></th>\n",
              "      <th></th>\n",
              "      <th></th>\n",
              "      <th></th>\n",
              "    </tr>\n",
              "  </thead>\n",
              "  <tbody>\n",
              "    <tr>\n",
              "      <th>1</th>\n",
              "      <td>NaN</td>\n",
              "      <td>NaN</td>\n",
              "      <td>Our Deeds are the Reason of this #earthquake M...</td>\n",
              "      <td>1</td>\n",
              "    </tr>\n",
              "    <tr>\n",
              "      <th>4</th>\n",
              "      <td>NaN</td>\n",
              "      <td>NaN</td>\n",
              "      <td>Forest fire near La Ronge Sask. Canada</td>\n",
              "      <td>1</td>\n",
              "    </tr>\n",
              "    <tr>\n",
              "      <th>5</th>\n",
              "      <td>NaN</td>\n",
              "      <td>NaN</td>\n",
              "      <td>All residents asked to 'shelter in place' are ...</td>\n",
              "      <td>1</td>\n",
              "    </tr>\n",
              "    <tr>\n",
              "      <th>6</th>\n",
              "      <td>NaN</td>\n",
              "      <td>NaN</td>\n",
              "      <td>13,000 people receive #wildfires evacuation or...</td>\n",
              "      <td>1</td>\n",
              "    </tr>\n",
              "    <tr>\n",
              "      <th>7</th>\n",
              "      <td>NaN</td>\n",
              "      <td>NaN</td>\n",
              "      <td>Just got sent this photo from Ruby #Alaska as ...</td>\n",
              "      <td>1</td>\n",
              "    </tr>\n",
              "  </tbody>\n",
              "</table>\n",
              "</div>"
            ],
            "text/plain": [
              "   keyword location                                               text  target\n",
              "id                                                                            \n",
              "1      NaN      NaN  Our Deeds are the Reason of this #earthquake M...       1\n",
              "4      NaN      NaN             Forest fire near La Ronge Sask. Canada       1\n",
              "5      NaN      NaN  All residents asked to 'shelter in place' are ...       1\n",
              "6      NaN      NaN  13,000 people receive #wildfires evacuation or...       1\n",
              "7      NaN      NaN  Just got sent this photo from Ruby #Alaska as ...       1"
            ]
          },
          "metadata": {
            "tags": []
          },
          "execution_count": 16
        }
      ]
    },
    {
      "cell_type": "code",
      "metadata": {
        "id": "0HJcJ90yBC_N",
        "colab_type": "code",
        "colab": {
          "base_uri": "https://localhost:8080/",
          "height": 100
        },
        "outputId": "89267255-4afd-4ccd-bd3e-172a4e37f592"
      },
      "source": [
        "train.dtypes"
      ],
      "execution_count": 9,
      "outputs": [
        {
          "output_type": "execute_result",
          "data": {
            "text/plain": [
              "keyword     object\n",
              "location    object\n",
              "text        object\n",
              "target       int64\n",
              "dtype: object"
            ]
          },
          "metadata": {
            "tags": []
          },
          "execution_count": 9
        }
      ]
    },
    {
      "cell_type": "markdown",
      "metadata": {
        "id": "9RCrYR9CBLTV",
        "colab_type": "text"
      },
      "source": [
        "The target is an integer, it should be bool 1 or 0. Let us do more EDA"
      ]
    },
    {
      "cell_type": "code",
      "metadata": {
        "id": "pHAi5OUVATbj",
        "colab_type": "code",
        "colab": {
          "base_uri": "https://localhost:8080/",
          "height": 201
        },
        "outputId": "6c75ad68-caf7-43f2-f68e-fdedf57cce8f"
      },
      "source": [
        "train.info()"
      ],
      "execution_count": 8,
      "outputs": [
        {
          "output_type": "stream",
          "text": [
            "<class 'pandas.core.frame.DataFrame'>\n",
            "Int64Index: 7613 entries, 1 to 10873\n",
            "Data columns (total 4 columns):\n",
            " #   Column    Non-Null Count  Dtype \n",
            "---  ------    --------------  ----- \n",
            " 0   keyword   7552 non-null   object\n",
            " 1   location  5080 non-null   object\n",
            " 2   text      7613 non-null   object\n",
            " 3   target    7613 non-null   int64 \n",
            "dtypes: int64(1), object(3)\n",
            "memory usage: 297.4+ KB\n"
          ],
          "name": "stdout"
        }
      ]
    },
    {
      "cell_type": "code",
      "metadata": {
        "id": "tdAWGDbGAiQA",
        "colab_type": "code",
        "colab": {}
      },
      "source": [
        "import seaborn as sns"
      ],
      "execution_count": 0,
      "outputs": []
    },
    {
      "cell_type": "code",
      "metadata": {
        "id": "yf3YMJ3MBnqO",
        "colab_type": "code",
        "colab": {
          "base_uri": "https://localhost:8080/",
          "height": 296
        },
        "outputId": "06a0b711-a28c-498b-d2a3-a71db0ea000e"
      },
      "source": [
        "sns.countplot(x = 'target', data = train, palette = 'RdBu') #looks fine"
      ],
      "execution_count": 11,
      "outputs": [
        {
          "output_type": "execute_result",
          "data": {
            "text/plain": [
              "<matplotlib.axes._subplots.AxesSubplot at 0x7f8bf9d490f0>"
            ]
          },
          "metadata": {
            "tags": []
          },
          "execution_count": 11
        },
        {
          "output_type": "display_data",
          "data": {
            "image/png": "[encoded data removed]",
            "text/plain": [
              "<Figure size 432x288 with 1 Axes>"
            ]
          },
          "metadata": {
            "tags": [],
            "needs_background": "light"
          }
        }
      ]
    },
    {
      "cell_type": "code",
      "metadata": {
        "id": "SEdV19noB6DB",
        "colab_type": "code",
        "colab": {}
      },
      "source": [
        "train['target'] = train['target'].astype('bool')"
      ],
      "execution_count": 0,
      "outputs": []
    },
    {
      "cell_type": "code",
      "metadata": {
        "id": "nDpl1UE3FETU",
        "colab_type": "code",
        "colab": {}
      },
      "source": [
        "train.drop([\"keyword\", \"location\"], axis = 1, inplace = True)\n",
        "test.drop([\"keyword\", \"location\"], axis = 1, inplace = True)"
      ],
      "execution_count": 0,
      "outputs": []
    },
    {
      "cell_type": "markdown",
      "metadata": {
        "id": "uimYU3mvkJkT",
        "colab_type": "text"
      },
      "source": [
        "## Cleaning tweets"
      ]
    },
    {
      "cell_type": "code",
      "metadata": {
        "id": "258RoR1JFF5x",
        "colab_type": "code",
        "colab": {}
      },
      "source": [
        "#clean tweet\n",
        "def clean_tweet(tweet):\n",
        "  tweet = BeautifulSoup(tweet, \"lxml\").get_text()\n",
        "  tweet = re.sub(r\"@[A-Za-z0-9]+\", ' ', tweet) #remove mentions\n",
        "  tweet = re.sub(r\"https?://[A-Za-z0-9./]+\", ' ', tweet)\n",
        "  tweet = re.sub(r\"[^a-zA-Z.!?']\", ' ', tweet)\n",
        "  tweet = re.sub(r\" +\", ' ', tweet)\n",
        "  return tweet"
      ],
      "execution_count": 0,
      "outputs": []
    },
    {
      "cell_type": "code",
      "metadata": {
        "id": "VxeUDNh2kNsr",
        "colab_type": "code",
        "colab": {}
      },
      "source": [
        "data_clean = [clean_tweet(tweet) for tweet in train.text]\n",
        "data_labels = train.target.values #numpy format\n",
        "test_clean = [clean_tweet(tweet) for tweet in test.text]"
      ],
      "execution_count": 0,
      "outputs": []
    },
    {
      "cell_type": "code",
      "metadata": {
        "id": "rp9Ie2RFCrlD",
        "colab_type": "code",
        "colab": {
          "base_uri": "https://localhost:8080/",
          "height": 120
        },
        "outputId": "71d65559-bed0-4940-bf55-7d1defa1c73e"
      },
      "source": [
        "#preview\n",
        "data_clean[0:5]"
      ],
      "execution_count": 25,
      "outputs": [
        {
          "output_type": "execute_result",
          "data": {
            "text/plain": [
              "['Our Deeds are the Reason of this earthquake May ALLAH Forgive us all',\n",
              " 'Forest fire near La Ronge Sask. Canada',\n",
              " \"All residents asked to 'shelter in place' are being notified by officers. No other evacuation or shelter in place orders are expected\",\n",
              " ' people receive wildfires evacuation orders in California ',\n",
              " 'Just got sent this photo from Ruby Alaska as smoke from wildfires pours into a school ']"
            ]
          },
          "metadata": {
            "tags": []
          },
          "execution_count": 25
        }
      ]
    },
    {
      "cell_type": "code",
      "metadata": {
        "id": "_dcjB8R7DAJd",
        "colab_type": "code",
        "colab": {
          "base_uri": "https://localhost:8080/",
          "height": 134
        },
        "outputId": "61de8282-d967-4f21-af53-5d5ee6c8ff68"
      },
      "source": [
        "train.text.head() #the hashtag and numbers have been removed"
      ],
      "execution_count": 26,
      "outputs": [
        {
          "output_type": "execute_result",
          "data": {
            "text/plain": [
              "id\n",
              "1    Our Deeds are the Reason of this #earthquake M...\n",
              "4               Forest fire near La Ronge Sask. Canada\n",
              "5    All residents asked to 'shelter in place' are ...\n",
              "6    13,000 people receive #wildfires evacuation or...\n",
              "7    Just got sent this photo from Ruby #Alaska as ...\n",
              "Name: text, dtype: object"
            ]
          },
          "metadata": {
            "tags": []
          },
          "execution_count": 26
        }
      ]
    },
    {
      "cell_type": "markdown",
      "metadata": {
        "id": "vaaQxSU9khvA",
        "colab_type": "text"
      },
      "source": [
        "## Tokenisation"
      ]
    },
    {
      "cell_type": "code",
      "metadata": {
        "id": "BIwWEHpBkfPI",
        "colab_type": "code",
        "colab": {}
      },
      "source": [
        "#creates a tokenizer from training data\n",
        "tokenizer = Tokenizer()\n",
        "tokenizer.fit_on_texts(data_clean)"
      ],
      "execution_count": 0,
      "outputs": []
    },
    {
      "cell_type": "markdown",
      "metadata": {
        "id": "xOWG5LhAxdeT",
        "colab_type": "text"
      },
      "source": [
        "## Text to sequence"
      ]
    },
    {
      "cell_type": "code",
      "metadata": {
        "id": "FFktLa1Mk1nU",
        "colab_type": "code",
        "colab": {}
      },
      "source": [
        "#text to sequence\n",
        "data_clean = tokenizer.texts_to_sequences(data_clean)\n",
        "test_clean = tokenizer.texts_to_sequences(test_clean)"
      ],
      "execution_count": 0,
      "outputs": []
    },
    {
      "cell_type": "code",
      "metadata": {
        "id": "2eTsjEZkDUk1",
        "colab_type": "code",
        "colab": {
          "base_uri": "https://localhost:8080/",
          "height": 50
        },
        "outputId": "11dab5e3-601b-480b-efbd-9a1d3a7c737d"
      },
      "source": [
        "data_clean[0:2]"
      ],
      "execution_count": 31,
      "outputs": [
        {
          "output_type": "execute_result",
          "data": {
            "text/plain": [
              "[[111, 4371, 21, 1, 840, 5, 18, 248, 130, 1564, 4372, 82, 35],\n",
              " [183, 41, 206, 744, 6425, 6426, 1361]]"
            ]
          },
          "metadata": {
            "tags": []
          },
          "execution_count": 31
        }
      ]
    },
    {
      "cell_type": "markdown",
      "metadata": {
        "id": "Q6_UQATQxlLM",
        "colab_type": "text"
      },
      "source": [
        "## Pad sequence"
      ]
    },
    {
      "cell_type": "code",
      "metadata": {
        "id": "mleC6U-vlCzp",
        "colab_type": "code",
        "colab": {}
      },
      "source": [
        "#Make each sentence have equal length\n",
        "#maximum length of a tweet\n",
        "sentence_len = 30\n",
        "#apply\n",
        "data_clean = pad_sequences(data_clean, maxlen = sentence_len)\n",
        "test_clean = pad_sequences(test_clean, maxlen = sentence_len)"
      ],
      "execution_count": 0,
      "outputs": []
    },
    {
      "cell_type": "code",
      "metadata": {
        "id": "8kmYR0oZDezy",
        "colab_type": "code",
        "colab": {
          "base_uri": "https://localhost:8080/",
          "height": 117
        },
        "outputId": "06df80c3-7dd5-4129-811d-6065c3ab20ba"
      },
      "source": [
        "data_clean[0:2]"
      ],
      "execution_count": 37,
      "outputs": [
        {
          "output_type": "execute_result",
          "data": {
            "text/plain": [
              "array([[   0,    0,    0,    0,    0,    0,    0,    0,    0,    0,    0,\n",
              "           0,    0,    0,    0,    0,    0,  111, 4371,   21,    1,  840,\n",
              "           5,   18,  248,  130, 1564, 4372,   82,   35],\n",
              "       [   0,    0,    0,    0,    0,    0,    0,    0,    0,    0,    0,\n",
              "           0,    0,    0,    0,    0,    0,    0,    0,    0,    0,    0,\n",
              "           0,  183,   41,  206,  744, 6425, 6426, 1361]], dtype=int32)"
            ]
          },
          "metadata": {
            "tags": []
          },
          "execution_count": 37
        }
      ]
    },
    {
      "cell_type": "code",
      "metadata": {
        "id": "6-d6ezsy3uwU",
        "colab_type": "code",
        "colab": {}
      },
      "source": [
        "#reshape data to three dimensions\n",
        "data_clean = data_clean.reshape(data_clean.shape[0], 1, data_clean.shape[1])"
      ],
      "execution_count": 0,
      "outputs": []
    },
    {
      "cell_type": "markdown",
      "metadata": {
        "id": "MjlqVm9woOKe",
        "colab_type": "text"
      },
      "source": [
        "## Model building"
      ]
    },
    {
      "cell_type": "code",
      "metadata": {
        "id": "MVRUG1vt2Aj6",
        "colab_type": "code",
        "colab": {}
      },
      "source": [
        "# Build simple RNN model\n",
        "model = Sequential()\n",
        "model.add(SimpleRNN(units=128, input_shape=(1, data_clean.shape[2])))\n",
        "model.add(Dense(1, activation='sigmoid'))\n",
        "model.compile(loss='binary_crossentropy', \n",
        "              optimizer='adam',\n",
        "              metrics=['accuracy'])"
      ],
      "execution_count": 0,
      "outputs": []
    },
    {
      "cell_type": "code",
      "metadata": {
        "id": "gouLdp6ioIGe",
        "colab_type": "code",
        "colab": {
          "base_uri": "https://localhost:8080/",
          "height": 702
        },
        "outputId": "ed7aa8dc-ffb8-4d3d-d286-6834a47c613f"
      },
      "source": [
        "# Train the model, iterating on the data in batches of 32 samples\n",
        "model.fit(data_clean,  data_labels, epochs=20, batch_size=32)"
      ],
      "execution_count": 43,
      "outputs": [
        {
          "output_type": "stream",
          "text": [
            "Epoch 1/20\n",
            "7613/7613 [==============================] - 0s 50us/step - loss: 0.6662 - accuracy: 0.5899\n",
            "Epoch 2/20\n",
            "7613/7613 [==============================] - 0s 48us/step - loss: 0.6642 - accuracy: 0.5965\n",
            "Epoch 3/20\n",
            "7613/7613 [==============================] - 0s 49us/step - loss: 0.6649 - accuracy: 0.5995\n",
            "Epoch 4/20\n",
            "7613/7613 [==============================] - 0s 49us/step - loss: 0.6640 - accuracy: 0.5978\n",
            "Epoch 5/20\n",
            "7613/7613 [==============================] - 0s 51us/step - loss: 0.6633 - accuracy: 0.6003\n",
            "Epoch 6/20\n",
            "7613/7613 [==============================] - 0s 50us/step - loss: 0.6637 - accuracy: 0.5981\n",
            "Epoch 7/20\n",
            "7613/7613 [==============================] - 0s 51us/step - loss: 0.6663 - accuracy: 0.5944\n",
            "Epoch 8/20\n",
            "7613/7613 [==============================] - 0s 48us/step - loss: 0.6630 - accuracy: 0.5992\n",
            "Epoch 9/20\n",
            "7613/7613 [==============================] - 0s 49us/step - loss: 0.6628 - accuracy: 0.5941\n",
            "Epoch 10/20\n",
            "7613/7613 [==============================] - 0s 49us/step - loss: 0.6625 - accuracy: 0.5945\n",
            "Epoch 11/20\n",
            "7613/7613 [==============================] - 0s 48us/step - loss: 0.6621 - accuracy: 0.6008\n",
            "Epoch 12/20\n",
            "7613/7613 [==============================] - 0s 49us/step - loss: 0.6615 - accuracy: 0.5978\n",
            "Epoch 13/20\n",
            "7613/7613 [==============================] - 0s 48us/step - loss: 0.6623 - accuracy: 0.5971\n",
            "Epoch 14/20\n",
            "7613/7613 [==============================] - 0s 47us/step - loss: 0.6612 - accuracy: 0.6016\n",
            "Epoch 15/20\n",
            "7613/7613 [==============================] - 0s 50us/step - loss: 0.6609 - accuracy: 0.6030\n",
            "Epoch 16/20\n",
            "7613/7613 [==============================] - 0s 48us/step - loss: 0.6622 - accuracy: 0.6051\n",
            "Epoch 17/20\n",
            "7613/7613 [==============================] - 0s 51us/step - loss: 0.6629 - accuracy: 0.6045\n",
            "Epoch 18/20\n",
            "7613/7613 [==============================] - 0s 48us/step - loss: 0.6609 - accuracy: 0.6054\n",
            "Epoch 19/20\n",
            "7613/7613 [==============================] - 0s 49us/step - loss: 0.6604 - accuracy: 0.6058\n",
            "Epoch 20/20\n",
            "7613/7613 [==============================] - 0s 50us/step - loss: 0.6572 - accuracy: 0.6090\n"
          ],
          "name": "stdout"
        },
        {
          "output_type": "execute_result",
          "data": {
            "text/plain": [
              "<keras.callbacks.callbacks.History at 0x7f8bed5d0f60>"
            ]
          },
          "metadata": {
            "tags": []
          },
          "execution_count": 43
        }
      ]
    },
    {
      "cell_type": "markdown",
      "metadata": {
        "id": "SQPiXe07ovym",
        "colab_type": "text"
      },
      "source": [
        "#Make predictions\n"
      ]
    },
    {
      "cell_type": "code",
      "metadata": {
        "id": "Cs87uzLv5LYQ",
        "colab_type": "code",
        "colab": {}
      },
      "source": [
        "#reshape data to three dimensions\n",
        "test_clean = test_clean.reshape(test_clean.shape[0], 1, test_clean.shape[1])"
      ],
      "execution_count": 0,
      "outputs": []
    },
    {
      "cell_type": "code",
      "metadata": {
        "id": "6FaUxz6NozZv",
        "colab_type": "code",
        "colab": {}
      },
      "source": [
        "pred_probabilities = model.predict(test_clean)"
      ],
      "execution_count": 0,
      "outputs": []
    },
    {
      "cell_type": "code",
      "metadata": {
        "id": "KnPHfxS_5Ipf",
        "colab_type": "code",
        "colab": {
          "base_uri": "https://localhost:8080/",
          "height": 134
        },
        "outputId": "dea02d8e-f6f9-4ba6-e5ae-4224751a70e2"
      },
      "source": [
        "pred_probabilities"
      ],
      "execution_count": 46,
      "outputs": [
        {
          "output_type": "execute_result",
          "data": {
            "text/plain": [
              "array([[0.41070446],\n",
              "       [0.47337937],\n",
              "       [0.4949292 ],\n",
              "       ...,\n",
              "       [0.31551147],\n",
              "       [0.38053066],\n",
              "       [0.41238886]], dtype=float32)"
            ]
          },
          "metadata": {
            "tags": []
          },
          "execution_count": 46
        }
      ]
    },
    {
      "cell_type": "code",
      "metadata": {
        "id": "5vK5HUeU6FkL",
        "colab_type": "code",
        "colab": {}
      },
      "source": [
        "#convert probabilities to 1 and 0\n",
        "y_pred = np.matrix( pred_probabilities)\n",
        "y_pred[y_pred > 0.5] = 1\n",
        "y_pred[y_pred <= 0.5] = 0"
      ],
      "execution_count": 0,
      "outputs": []
    },
    {
      "cell_type": "code",
      "metadata": {
        "id": "4w7TP_zd6G-o",
        "colab_type": "code",
        "colab": {}
      },
      "source": [
        "#save predictions\n",
        "pred = pd.DataFrame(y_pred)\n",
        "ids = pd.DataFrame(test[['id']])\n",
        "df = pd.concat([ids, pred], axis = 1)\n",
        "df.columns = ['id', 'target']\n",
        "df.set_index('id', inplace=True)"
      ],
      "execution_count": 0,
      "outputs": []
    },
    {
      "cell_type": "code",
      "metadata": {
        "id": "VYhNfZ7v6YAm",
        "colab_type": "code",
        "colab": {
          "base_uri": "https://localhost:8080/",
          "height": 226
        },
        "outputId": "4282597b-a695-4134-9ee7-460c8ccf5a0d"
      },
      "source": [
        "df.head()"
      ],
      "execution_count": 49,
      "outputs": [
        {
          "output_type": "execute_result",
          "data": {
            "text/html": [
              "<div>\n",
              "<style scoped>\n",
              "    .dataframe tbody tr th:only-of-type {\n",
              "        vertical-align: middle;\n",
              "    }\n",
              "\n",
              "    .dataframe tbody tr th {\n",
              "        vertical-align: top;\n",
              "    }\n",
              "\n",
              "    .dataframe thead th {\n",
              "        text-align: right;\n",
              "    }\n",
              "</style>\n",
              "<table border=\"1\" class=\"dataframe\">\n",
              "  <thead>\n",
              "    <tr style=\"text-align: right;\">\n",
              "      <th></th>\n",
              "      <th>target</th>\n",
              "    </tr>\n",
              "    <tr>\n",
              "      <th>id</th>\n",
              "      <th></th>\n",
              "    </tr>\n",
              "  </thead>\n",
              "  <tbody>\n",
              "    <tr>\n",
              "      <th>0</th>\n",
              "      <td>0.0</td>\n",
              "    </tr>\n",
              "    <tr>\n",
              "      <th>2</th>\n",
              "      <td>0.0</td>\n",
              "    </tr>\n",
              "    <tr>\n",
              "      <th>3</th>\n",
              "      <td>0.0</td>\n",
              "    </tr>\n",
              "    <tr>\n",
              "      <th>9</th>\n",
              "      <td>0.0</td>\n",
              "    </tr>\n",
              "    <tr>\n",
              "      <th>11</th>\n",
              "      <td>0.0</td>\n",
              "    </tr>\n",
              "  </tbody>\n",
              "</table>\n",
              "</div>"
            ],
            "text/plain": [
              "    target\n",
              "id        \n",
              "0      0.0\n",
              "2      0.0\n",
              "3      0.0\n",
              "9      0.0\n",
              "11     0.0"
            ]
          },
          "metadata": {
            "tags": []
          },
          "execution_count": 49
        }
      ]
    },
    {
      "cell_type": "code",
      "metadata": {
        "id": "YVmGkDUq6pvK",
        "colab_type": "code",
        "colab": {}
      },
      "source": [
        "#save\n",
        "df.to_csv(\"/content/drive/My Drive/twitterfakenews/submission_three.csv\")"
      ],
      "execution_count": 0,
      "outputs": []
    },
    {
      "cell_type": "code",
      "metadata": {
        "id": "TPTu42Qp6tHU",
        "colab_type": "code",
        "colab": {}
      },
      "source": [
        "#submit to kaggle\n",
        "!kaggle competitions submit -c nlp-getting-started -f submission_three.csv -m \"2ndsubmission\""
      ],
      "execution_count": 0,
      "outputs": []
    }
  ]
}