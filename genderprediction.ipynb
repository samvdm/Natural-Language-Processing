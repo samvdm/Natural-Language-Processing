{
 "cells": [
  {
   "cell_type": "code",
   "execution_count": 28,
   "id": "typical-guyana",
   "metadata": {},
   "outputs": [],
   "source": [
    "import pandas as pd\n",
    "import numpy as np\n",
    "import fuzzy"
   ]
  },
  {
   "cell_type": "markdown",
   "id": "bulgarian-spider",
   "metadata": {},
   "source": [
    "## The data set\n",
    "\n",
    "The first step is to read the data set. The data set can be found here:\n",
    "\n",
    "https://www.kaggle.com/rowhitswami/nips-papers-1987-2019-updated\n",
    "\n",
    "This data does not contain any details of the authors gender. We will therefore \"predict\" the gender of the authors using fuzzy."
   ]
  },
  {
   "cell_type": "code",
   "execution_count": 22,
   "id": "exciting-cancer",
   "metadata": {},
   "outputs": [],
   "source": [
    "author_df = pd.read_csv('~/Documents/coursedata/authors.csv')"
   ]
  },
  {
   "cell_type": "code",
   "execution_count": 23,
   "id": "reported-coaching",
   "metadata": {},
   "outputs": [
    {
     "data": {
      "text/html": [
       "<div>\n",
       "<style scoped>\n",
       "    .dataframe tbody tr th:only-of-type {\n",
       "        vertical-align: middle;\n",
       "    }\n",
       "\n",
       "    .dataframe tbody tr th {\n",
       "        vertical-align: top;\n",
       "    }\n",
       "\n",
       "    .dataframe thead th {\n",
       "        text-align: right;\n",
       "    }\n",
       "</style>\n",
       "<table border=\"1\" class=\"dataframe\">\n",
       "  <thead>\n",
       "    <tr style=\"text-align: right;\">\n",
       "      <th></th>\n",
       "      <th>source_id</th>\n",
       "      <th>first_name</th>\n",
       "      <th>last_name</th>\n",
       "      <th>institution</th>\n",
       "    </tr>\n",
       "  </thead>\n",
       "  <tbody>\n",
       "    <tr>\n",
       "      <th>0</th>\n",
       "      <td>27</td>\n",
       "      <td>Alan</td>\n",
       "      <td>Murray</td>\n",
       "      <td>NaN</td>\n",
       "    </tr>\n",
       "    <tr>\n",
       "      <th>1</th>\n",
       "      <td>27</td>\n",
       "      <td>Anthony</td>\n",
       "      <td>Smith</td>\n",
       "      <td>NaN</td>\n",
       "    </tr>\n",
       "    <tr>\n",
       "      <th>2</th>\n",
       "      <td>27</td>\n",
       "      <td>Zoe</td>\n",
       "      <td>Butler</td>\n",
       "      <td>NaN</td>\n",
       "    </tr>\n",
       "    <tr>\n",
       "      <th>3</th>\n",
       "      <td>63</td>\n",
       "      <td>Yaser</td>\n",
       "      <td>Abu-Mostafa</td>\n",
       "      <td>NaN</td>\n",
       "    </tr>\n",
       "    <tr>\n",
       "      <th>4</th>\n",
       "      <td>60</td>\n",
       "      <td>Michael</td>\n",
       "      <td>Fleisher</td>\n",
       "      <td>NaN</td>\n",
       "    </tr>\n",
       "  </tbody>\n",
       "</table>\n",
       "</div>"
      ],
      "text/plain": [
       "   source_id first_name    last_name institution\n",
       "0         27       Alan       Murray         NaN\n",
       "1         27    Anthony        Smith         NaN\n",
       "2         27        Zoe       Butler         NaN\n",
       "3         63      Yaser  Abu-Mostafa         NaN\n",
       "4         60    Michael     Fleisher         NaN"
      ]
     },
     "execution_count": 23,
     "metadata": {},
     "output_type": "execute_result"
    }
   ],
   "source": [
    "author_df.head()"
   ]
  },
  {
   "cell_type": "code",
   "execution_count": null,
   "id": "coastal-basis",
   "metadata": {},
   "outputs": [],
   "source": [
    "np.shape(author_df)"
   ]
  },
  {
   "cell_type": "code",
   "execution_count": 26,
   "id": "comprehensive-definition",
   "metadata": {},
   "outputs": [],
   "source": [
    "#convert author names to string\n",
    "\n",
    "author_df['first_name'] = author_df['first_name'].astype(str)"
   ]
  },
  {
   "cell_type": "code",
   "execution_count": 60,
   "id": "suited-matrix",
   "metadata": {},
   "outputs": [],
   "source": [
    "#remove duplicates\n",
    "author_df = author_df.drop_duplicates(['first_name', 'last_name'])"
   ]
  },
  {
   "cell_type": "markdown",
   "id": "adverse-toilet",
   "metadata": {},
   "source": [
    "## Bring on the phonics\n",
    "\n",
    "We will now create a new column or list that contains the phonetic equivalent of every first name that we just extracted."
   ]
  },
  {
   "cell_type": "code",
   "execution_count": 41,
   "id": "covered-cigarette",
   "metadata": {},
   "outputs": [
    {
     "data": {
      "text/plain": [
       "3104"
      ]
     },
     "execution_count": 41,
     "metadata": {},
     "output_type": "execute_result"
    }
   ],
   "source": [
    "# Looping through author's first names to create the nysiis (fuzzy) equivalent\n",
    "nysiis_name = []\n",
    "# ...YOUR CODE FOR TASK 3...\n",
    "for name in author_df['first_name']:\n",
    "    nysiis_name.append(fuzzy.nysiis(name))\n",
    "    \n",
    "# Adding nysiis_name as a column to author_df\n",
    "author_df['nysiis_name'] = nysiis_name\n",
    "\n",
    "# Printing out the difference between unique firstnames and unique nysiis_names:\n",
    "len(np.unique(author_df['first_name'])) - len(np.unique(author_df['nysiis_name']))"
   ]
  },
  {
   "cell_type": "code",
   "execution_count": 42,
   "id": "sublime-birthday",
   "metadata": {},
   "outputs": [],
   "source": [
    "duplicates = author_df.duplicated('nysiis_name', keep = False)\n",
    "duplicated_post = author_df[duplicates].sort_values(by = 'nysiis_name')"
   ]
  },
  {
   "cell_type": "code",
   "execution_count": 43,
   "id": "injured-gentleman",
   "metadata": {},
   "outputs": [
    {
     "data": {
      "text/html": [
       "<div>\n",
       "<style scoped>\n",
       "    .dataframe tbody tr th:only-of-type {\n",
       "        vertical-align: middle;\n",
       "    }\n",
       "\n",
       "    .dataframe tbody tr th {\n",
       "        vertical-align: top;\n",
       "    }\n",
       "\n",
       "    .dataframe thead th {\n",
       "        text-align: right;\n",
       "    }\n",
       "</style>\n",
       "<table border=\"1\" class=\"dataframe\">\n",
       "  <thead>\n",
       "    <tr style=\"text-align: right;\">\n",
       "      <th></th>\n",
       "      <th>source_id</th>\n",
       "      <th>first_name</th>\n",
       "      <th>last_name</th>\n",
       "      <th>institution</th>\n",
       "      <th>nysiis_name</th>\n",
       "    </tr>\n",
       "  </thead>\n",
       "  <tbody>\n",
       "    <tr>\n",
       "      <th>291</th>\n",
       "      <td>179</td>\n",
       "      <td>S.</td>\n",
       "      <td>Haghighi</td>\n",
       "      <td>NaN</td>\n",
       "      <td></td>\n",
       "    </tr>\n",
       "    <tr>\n",
       "      <th>1084</th>\n",
       "      <td>586</td>\n",
       "      <td>S.</td>\n",
       "      <td>Pickard</td>\n",
       "      <td>NaN</td>\n",
       "      <td></td>\n",
       "    </tr>\n",
       "    <tr>\n",
       "      <th>94</th>\n",
       "      <td>86</td>\n",
       "      <td>A.</td>\n",
       "      <td>Horst</td>\n",
       "      <td>NaN</td>\n",
       "      <td></td>\n",
       "    </tr>\n",
       "    <tr>\n",
       "      <th>3986</th>\n",
       "      <td>1767</td>\n",
       "      <td>S.</td>\n",
       "      <td>Sundararajan</td>\n",
       "      <td>NaN</td>\n",
       "      <td></td>\n",
       "    </tr>\n",
       "    <tr>\n",
       "      <th>3987</th>\n",
       "      <td>1767</td>\n",
       "      <td>S.</td>\n",
       "      <td>Keerthi</td>\n",
       "      <td>NaN</td>\n",
       "      <td></td>\n",
       "    </tr>\n",
       "    <tr>\n",
       "      <th>...</th>\n",
       "      <td>...</td>\n",
       "      <td>...</td>\n",
       "      <td>...</td>\n",
       "      <td>...</td>\n",
       "      <td>...</td>\n",
       "    </tr>\n",
       "    <tr>\n",
       "      <th>27822</th>\n",
       "      <td>936</td>\n",
       "      <td>Ziyan</td>\n",
       "      <td>Wu</td>\n",
       "      <td>United Imaging Intelligence</td>\n",
       "      <td>ZYAN</td>\n",
       "    </tr>\n",
       "    <tr>\n",
       "      <th>24939</th>\n",
       "      <td>5661</td>\n",
       "      <td>Ziyin</td>\n",
       "      <td>Liu</td>\n",
       "      <td>University of Tokyo</td>\n",
       "      <td>ZYAN</td>\n",
       "    </tr>\n",
       "    <tr>\n",
       "      <th>23034</th>\n",
       "      <td>2453</td>\n",
       "      <td>Ziyan</td>\n",
       "      <td>Wang</td>\n",
       "      <td>Carnegie Mellon University</td>\n",
       "      <td>ZYAN</td>\n",
       "    </tr>\n",
       "    <tr>\n",
       "      <th>27770</th>\n",
       "      <td>147</td>\n",
       "      <td>Ziyuan</td>\n",
       "      <td>Zhong</td>\n",
       "      <td>Columbia University</td>\n",
       "      <td>ZYAN</td>\n",
       "    </tr>\n",
       "    <tr>\n",
       "      <th>16636</th>\n",
       "      <td>880</td>\n",
       "      <td>Zeyuan</td>\n",
       "      <td>Allen-Zhu</td>\n",
       "      <td>Princeton University</td>\n",
       "      <td>ZYAN</td>\n",
       "    </tr>\n",
       "  </tbody>\n",
       "</table>\n",
       "<p>12127 rows × 5 columns</p>\n",
       "</div>"
      ],
      "text/plain": [
       "       source_id first_name     last_name                  institution  \\\n",
       "291          179         S.      Haghighi                          NaN   \n",
       "1084         586         S.       Pickard                          NaN   \n",
       "94            86         A.         Horst                          NaN   \n",
       "3986        1767         S.  Sundararajan                          NaN   \n",
       "3987        1767         S.       Keerthi                          NaN   \n",
       "...          ...        ...           ...                          ...   \n",
       "27822        936      Ziyan            Wu  United Imaging Intelligence   \n",
       "24939       5661      Ziyin           Liu          University of Tokyo   \n",
       "23034       2453      Ziyan          Wang   Carnegie Mellon University   \n",
       "27770        147     Ziyuan         Zhong          Columbia University   \n",
       "16636        880     Zeyuan     Allen-Zhu         Princeton University   \n",
       "\n",
       "      nysiis_name  \n",
       "291                \n",
       "1084               \n",
       "94                 \n",
       "3986               \n",
       "3987               \n",
       "...           ...  \n",
       "27822        ZYAN  \n",
       "24939        ZYAN  \n",
       "23034        ZYAN  \n",
       "27770        ZYAN  \n",
       "16636        ZYAN  \n",
       "\n",
       "[12127 rows x 5 columns]"
      ]
     },
     "execution_count": 43,
     "metadata": {},
     "output_type": "execute_result"
    }
   ],
   "source": [
    "duplicated_post"
   ]
  },
  {
   "cell_type": "markdown",
   "id": "adaptive-edward",
   "metadata": {},
   "source": [
    "We can see that the last couple of names are all pronounced the same."
   ]
  },
  {
   "cell_type": "code",
   "execution_count": 45,
   "id": "bigger-sucking",
   "metadata": {},
   "outputs": [],
   "source": [
    "babies_df = pd.read_csv('~/Documents/coursedata/babynames_nysiis.csv', delimiter = ';')"
   ]
  },
  {
   "cell_type": "code",
   "execution_count": 46,
   "id": "actual-average",
   "metadata": {},
   "outputs": [],
   "source": [
    "# Looping through babies_df to and filling up gender\n",
    "\n",
    "babies_df.loc[babies_df['perc_female'] > babies_df['perc_male'], 'gender' ] = 'F'\n",
    "babies_df.loc[babies_df['perc_male'] > babies_df['perc_female'], 'gender' ] = 'M'\n",
    "babies_df.loc[babies_df['perc_male'] == babies_df['perc_female'], 'gender' ] = 'N'"
   ]
  },
  {
   "cell_type": "markdown",
   "id": "sunrise-startup",
   "metadata": {},
   "source": [
    "## Matching\n",
    "\n",
    "Now that we have identified the likely genders of different names, let's find author genders by searching for each author's name in the babies_df DataFrame, and extracting the associated gender."
   ]
  },
  {
   "cell_type": "code",
   "execution_count": 47,
   "id": "norman-edgar",
   "metadata": {},
   "outputs": [],
   "source": [
    "author_df = pd.merge(author_df, babies_df.rename(columns={'babynysiis': 'nysiis_name'}), \n",
    "                     how=\"left\", on= 'nysiis_name')\n",
    "author_df.loc[author_df['gender'].isnull(), 'gender'] = 'Unknown'"
   ]
  },
  {
   "cell_type": "code",
   "execution_count": 48,
   "id": "clean-darwin",
   "metadata": {},
   "outputs": [],
   "source": [
    "author_df = author_df.rename(columns ={'gender':'author_gender'})"
   ]
  },
  {
   "cell_type": "code",
   "execution_count": 49,
   "id": "average-mentor",
   "metadata": {},
   "outputs": [
    {
     "data": {
      "text/plain": [
       "F          5975\n",
       "M          5641\n",
       "Unknown    1860\n",
       "N           563\n",
       "Name: author_gender, dtype: int64"
      ]
     },
     "execution_count": 49,
     "metadata": {},
     "output_type": "execute_result"
    }
   ],
   "source": [
    "author_df['author_gender'].value_counts()"
   ]
  },
  {
   "cell_type": "code",
   "execution_count": 50,
   "id": "threaded-circulation",
   "metadata": {},
   "outputs": [
    {
     "data": {
      "text/html": [
       "<div>\n",
       "<style scoped>\n",
       "    .dataframe tbody tr th:only-of-type {\n",
       "        vertical-align: middle;\n",
       "    }\n",
       "\n",
       "    .dataframe tbody tr th {\n",
       "        vertical-align: top;\n",
       "    }\n",
       "\n",
       "    .dataframe thead th {\n",
       "        text-align: right;\n",
       "    }\n",
       "</style>\n",
       "<table border=\"1\" class=\"dataframe\">\n",
       "  <thead>\n",
       "    <tr style=\"text-align: right;\">\n",
       "      <th></th>\n",
       "      <th>source_id</th>\n",
       "      <th>first_name</th>\n",
       "      <th>last_name</th>\n",
       "      <th>institution</th>\n",
       "      <th>nysiis_name</th>\n",
       "      <th>perc_female</th>\n",
       "      <th>perc_male</th>\n",
       "      <th>author_gender</th>\n",
       "    </tr>\n",
       "  </thead>\n",
       "  <tbody>\n",
       "    <tr>\n",
       "      <th>0</th>\n",
       "      <td>27</td>\n",
       "      <td>Alan</td>\n",
       "      <td>Murray</td>\n",
       "      <td>NaN</td>\n",
       "      <td>ALAN</td>\n",
       "      <td>85.20</td>\n",
       "      <td>14.80</td>\n",
       "      <td>F</td>\n",
       "    </tr>\n",
       "    <tr>\n",
       "      <th>1</th>\n",
       "      <td>27</td>\n",
       "      <td>Anthony</td>\n",
       "      <td>Smith</td>\n",
       "      <td>NaN</td>\n",
       "      <td>ANTANY</td>\n",
       "      <td>36.36</td>\n",
       "      <td>63.64</td>\n",
       "      <td>M</td>\n",
       "    </tr>\n",
       "    <tr>\n",
       "      <th>2</th>\n",
       "      <td>27</td>\n",
       "      <td>Zoe</td>\n",
       "      <td>Butler</td>\n",
       "      <td>NaN</td>\n",
       "      <td>Z</td>\n",
       "      <td>64.00</td>\n",
       "      <td>36.00</td>\n",
       "      <td>F</td>\n",
       "    </tr>\n",
       "    <tr>\n",
       "      <th>3</th>\n",
       "      <td>63</td>\n",
       "      <td>Yaser</td>\n",
       "      <td>Abu-Mostafa</td>\n",
       "      <td>NaN</td>\n",
       "      <td>YASAR</td>\n",
       "      <td>48.15</td>\n",
       "      <td>51.85</td>\n",
       "      <td>M</td>\n",
       "    </tr>\n",
       "    <tr>\n",
       "      <th>4</th>\n",
       "      <td>60</td>\n",
       "      <td>Michael</td>\n",
       "      <td>Fleisher</td>\n",
       "      <td>NaN</td>\n",
       "      <td>MACAL</td>\n",
       "      <td>62.14</td>\n",
       "      <td>37.86</td>\n",
       "      <td>F</td>\n",
       "    </tr>\n",
       "    <tr>\n",
       "      <th>...</th>\n",
       "      <td>...</td>\n",
       "      <td>...</td>\n",
       "      <td>...</td>\n",
       "      <td>...</td>\n",
       "      <td>...</td>\n",
       "      <td>...</td>\n",
       "      <td>...</td>\n",
       "      <td>...</td>\n",
       "    </tr>\n",
       "    <tr>\n",
       "      <th>14034</th>\n",
       "      <td>4799</td>\n",
       "      <td>Yaxian</td>\n",
       "      <td>Xia</td>\n",
       "      <td>Peking University</td>\n",
       "      <td>YAXAN</td>\n",
       "      <td>66.67</td>\n",
       "      <td>33.33</td>\n",
       "      <td>F</td>\n",
       "    </tr>\n",
       "    <tr>\n",
       "      <th>14035</th>\n",
       "      <td>1827</td>\n",
       "      <td>Niklas Oskar</td>\n",
       "      <td>Hjuler</td>\n",
       "      <td>University of Copenhagen</td>\n",
       "      <td>NACLASASCAR</td>\n",
       "      <td>NaN</td>\n",
       "      <td>NaN</td>\n",
       "      <td>Unknown</td>\n",
       "    </tr>\n",
       "    <tr>\n",
       "      <th>14036</th>\n",
       "      <td>1827</td>\n",
       "      <td>David</td>\n",
       "      <td>Saulpic</td>\n",
       "      <td>Ecole normale supérieure</td>\n",
       "      <td>DAVAD</td>\n",
       "      <td>20.00</td>\n",
       "      <td>80.00</td>\n",
       "      <td>M</td>\n",
       "    </tr>\n",
       "    <tr>\n",
       "      <th>14037</th>\n",
       "      <td>8693</td>\n",
       "      <td>Erik</td>\n",
       "      <td>Vee</td>\n",
       "      <td>Google</td>\n",
       "      <td>ERAC</td>\n",
       "      <td>55.10</td>\n",
       "      <td>44.90</td>\n",
       "      <td>F</td>\n",
       "    </tr>\n",
       "    <tr>\n",
       "      <th>14038</th>\n",
       "      <td>2302</td>\n",
       "      <td>Ruho</td>\n",
       "      <td>Kondo</td>\n",
       "      <td>Toyota Central R&amp;D Labs., Inc.</td>\n",
       "      <td>R</td>\n",
       "      <td>61.54</td>\n",
       "      <td>38.46</td>\n",
       "      <td>F</td>\n",
       "    </tr>\n",
       "  </tbody>\n",
       "</table>\n",
       "<p>14039 rows × 8 columns</p>\n",
       "</div>"
      ],
      "text/plain": [
       "       source_id    first_name    last_name                     institution  \\\n",
       "0             27          Alan       Murray                             NaN   \n",
       "1             27       Anthony        Smith                             NaN   \n",
       "2             27           Zoe       Butler                             NaN   \n",
       "3             63         Yaser  Abu-Mostafa                             NaN   \n",
       "4             60       Michael     Fleisher                             NaN   \n",
       "...          ...           ...          ...                             ...   \n",
       "14034       4799        Yaxian          Xia               Peking University   \n",
       "14035       1827  Niklas Oskar       Hjuler        University of Copenhagen   \n",
       "14036       1827         David      Saulpic        Ecole normale supérieure   \n",
       "14037       8693          Erik          Vee                          Google   \n",
       "14038       2302          Ruho        Kondo  Toyota Central R&D Labs., Inc.   \n",
       "\n",
       "       nysiis_name  perc_female  perc_male author_gender  \n",
       "0             ALAN        85.20      14.80             F  \n",
       "1           ANTANY        36.36      63.64             M  \n",
       "2                Z        64.00      36.00             F  \n",
       "3            YASAR        48.15      51.85             M  \n",
       "4            MACAL        62.14      37.86             F  \n",
       "...            ...          ...        ...           ...  \n",
       "14034        YAXAN        66.67      33.33             F  \n",
       "14035  NACLASASCAR          NaN        NaN       Unknown  \n",
       "14036        DAVAD        20.00      80.00             M  \n",
       "14037         ERAC        55.10      44.90             F  \n",
       "14038            R        61.54      38.46             F  \n",
       "\n",
       "[14039 rows x 8 columns]"
      ]
     },
     "execution_count": 50,
     "metadata": {},
     "output_type": "execute_result"
    }
   ],
   "source": [
    "author_df"
   ]
  },
  {
   "cell_type": "markdown",
   "id": "proprietary-intro",
   "metadata": {},
   "source": [
    "Looking at the data you will see that the model is not perfect."
   ]
  },
  {
   "cell_type": "code",
   "execution_count": 57,
   "id": "quantitative-cincinnati",
   "metadata": {},
   "outputs": [],
   "source": [
    "# Looping through years to find the number of male, female and unknown authors per year\n",
    "groups = author_df.groupby('author_gender').size().reset_index(name='counts')"
   ]
  },
  {
   "cell_type": "code",
   "execution_count": 58,
   "id": "accepting-costa",
   "metadata": {},
   "outputs": [
    {
     "data": {
      "text/html": [
       "<div>\n",
       "<style scoped>\n",
       "    .dataframe tbody tr th:only-of-type {\n",
       "        vertical-align: middle;\n",
       "    }\n",
       "\n",
       "    .dataframe tbody tr th {\n",
       "        vertical-align: top;\n",
       "    }\n",
       "\n",
       "    .dataframe thead th {\n",
       "        text-align: right;\n",
       "    }\n",
       "</style>\n",
       "<table border=\"1\" class=\"dataframe\">\n",
       "  <thead>\n",
       "    <tr style=\"text-align: right;\">\n",
       "      <th></th>\n",
       "      <th>author_gender</th>\n",
       "      <th>counts</th>\n",
       "    </tr>\n",
       "  </thead>\n",
       "  <tbody>\n",
       "    <tr>\n",
       "      <th>0</th>\n",
       "      <td>F</td>\n",
       "      <td>5975</td>\n",
       "    </tr>\n",
       "    <tr>\n",
       "      <th>1</th>\n",
       "      <td>M</td>\n",
       "      <td>5641</td>\n",
       "    </tr>\n",
       "    <tr>\n",
       "      <th>2</th>\n",
       "      <td>N</td>\n",
       "      <td>563</td>\n",
       "    </tr>\n",
       "    <tr>\n",
       "      <th>3</th>\n",
       "      <td>Unknown</td>\n",
       "      <td>1860</td>\n",
       "    </tr>\n",
       "  </tbody>\n",
       "</table>\n",
       "</div>"
      ],
      "text/plain": [
       "  author_gender  counts\n",
       "0             F    5975\n",
       "1             M    5641\n",
       "2             N     563\n",
       "3       Unknown    1860"
      ]
     },
     "execution_count": 58,
     "metadata": {},
     "output_type": "execute_result"
    }
   ],
   "source": [
    "groups.head()"
   ]
  },
  {
   "cell_type": "code",
   "execution_count": 53,
   "id": "integral-employer",
   "metadata": {},
   "outputs": [],
   "source": [
    "# Importing matplotlib\n",
    "import matplotlib.pyplot as plt"
   ]
  },
  {
   "cell_type": "code",
   "execution_count": 59,
   "id": "national-willow",
   "metadata": {},
   "outputs": [
    {
     "data": {
      "text/plain": [
       "<BarContainer object of 4 artists>"
      ]
     },
     "execution_count": 59,
     "metadata": {},
     "output_type": "execute_result"
    },
    {
     "data": {
      "image/png": "[encoded data removed]",
      "text/plain": [
       "<Figure size 432x288 with 1 Axes>"
      ]
     },
     "metadata": {
      "needs_background": "light"
     },
     "output_type": "display_data"
    }
   ],
   "source": [
    "plt.bar(groups['author_gender'], groups['counts'])"
   ]
  },
  {
   "cell_type": "code",
   "execution_count": null,
   "id": "digital-photographer",
   "metadata": {},
   "outputs": [],
   "source": []
  }
 ],
 "metadata": {
  "kernelspec": {
   "display_name": "Python 3",
   "language": "python",
   "name": "python3"
  },
  "language_info": {
   "codemirror_mode": {
    "name": "ipython",
    "version": 3
   },
   "file_extension": ".py",
   "mimetype": "text/x-python",
   "name": "python",
   "nbconvert_exporter": "python",
   "pygments_lexer": "ipython3",
   "version": "3.7.4"
  }
 },
 "nbformat": 4,
 "nbformat_minor": 5
}
